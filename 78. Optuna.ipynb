{
 "cells": [
  {
   "cell_type": "code",
   "execution_count": 1,
   "id": "9517ee10",
   "metadata": {},
   "outputs": [
    {
     "name": "stdout",
     "output_type": "stream",
     "text": [
      "Collecting optuna\n",
      "  Downloading optuna-4.4.0-py3-none-any.whl.metadata (17 kB)\n",
      "Collecting alembic>=1.5.0 (from optuna)\n",
      "  Downloading alembic-1.16.2-py3-none-any.whl.metadata (7.3 kB)\n",
      "Collecting colorlog (from optuna)\n",
      "  Downloading colorlog-6.9.0-py3-none-any.whl.metadata (10 kB)\n",
      "Requirement already satisfied: numpy in c:\\users\\kiit\\anaconda-3\\lib\\site-packages (from optuna) (1.26.4)\n",
      "Requirement already satisfied: packaging>=20.0 in c:\\users\\kiit\\anaconda-3\\lib\\site-packages (from optuna) (24.2)\n",
      "Requirement already satisfied: sqlalchemy>=1.4.2 in c:\\users\\kiit\\anaconda-3\\lib\\site-packages (from optuna) (2.0.30)\n",
      "Requirement already satisfied: tqdm in c:\\users\\kiit\\anaconda-3\\lib\\site-packages (from optuna) (4.66.4)\n",
      "Requirement already satisfied: PyYAML in c:\\users\\kiit\\anaconda-3\\lib\\site-packages (from optuna) (6.0.1)\n",
      "Collecting Mako (from alembic>=1.5.0->optuna)\n",
      "  Downloading mako-1.3.10-py3-none-any.whl.metadata (2.9 kB)\n",
      "Collecting typing-extensions>=4.12 (from alembic>=1.5.0->optuna)\n",
      "  Downloading typing_extensions-4.14.1-py3-none-any.whl.metadata (3.0 kB)\n",
      "Requirement already satisfied: greenlet!=0.4.17 in c:\\users\\kiit\\anaconda-3\\lib\\site-packages (from sqlalchemy>=1.4.2->optuna) (3.0.1)\n",
      "Requirement already satisfied: colorama in c:\\users\\kiit\\appdata\\roaming\\python\\python312\\site-packages (from colorlog->optuna) (0.4.6)\n",
      "Requirement already satisfied: MarkupSafe>=0.9.2 in c:\\users\\kiit\\anaconda-3\\lib\\site-packages (from Mako->alembic>=1.5.0->optuna) (2.1.3)\n",
      "Downloading optuna-4.4.0-py3-none-any.whl (395 kB)\n",
      "   ---------------------------------------- 0.0/395.9 kB ? eta -:--:--\n",
      "   ------------- -------------------------- 133.1/395.9 kB 3.8 MB/s eta 0:00:01\n",
      "   ---------------------------------------- 395.9/395.9 kB 4.9 MB/s eta 0:00:00\n",
      "Downloading alembic-1.16.2-py3-none-any.whl (242 kB)\n",
      "   ---------------------------------------- 0.0/242.7 kB ? eta -:--:--\n",
      "   --------------------------------------- 242.7/242.7 kB 15.5 MB/s eta 0:00:00\n",
      "Downloading colorlog-6.9.0-py3-none-any.whl (11 kB)\n",
      "Downloading typing_extensions-4.14.1-py3-none-any.whl (43 kB)\n",
      "   ---------------------------------------- 0.0/43.9 kB ? eta -:--:--\n",
      "   ---------------------------------------- 43.9/43.9 kB ? eta 0:00:00\n",
      "Downloading mako-1.3.10-py3-none-any.whl (78 kB)\n",
      "   ---------------------------------------- 0.0/78.5 kB ? eta -:--:--\n",
      "   ---------------------------------------- 78.5/78.5 kB 4.3 MB/s eta 0:00:00\n",
      "Installing collected packages: typing-extensions, Mako, colorlog, alembic, optuna\n",
      "  Attempting uninstall: typing-extensions\n",
      "    Found existing installation: typing_extensions 4.11.0\n",
      "    Uninstalling typing_extensions-4.11.0:\n",
      "      Successfully uninstalled typing_extensions-4.11.0\n",
      "Successfully installed Mako-1.3.10 alembic-1.16.2 colorlog-6.9.0 optuna-4.4.0 typing-extensions-4.14.1\n"
     ]
    }
   ],
   "source": [
    "!pip install optuna"
   ]
  },
  {
   "cell_type": "code",
   "execution_count": 2,
   "id": "0d857266",
   "metadata": {},
   "outputs": [],
   "source": [
    "import optuna\n",
    "from sklearn.datasets import load_diabetes\n",
    "from sklearn.model_selection import train_test_split\n",
    "from sklearn.preprocessing import StandardScaler\n",
    "import pandas as pd\n",
    "import numpy as np"
   ]
  },
  {
   "cell_type": "code",
   "execution_count": 3,
   "id": "8c219b38",
   "metadata": {},
   "outputs": [
    {
     "data": {
      "text/html": [
       "<div>\n",
       "<style scoped>\n",
       "    .dataframe tbody tr th:only-of-type {\n",
       "        vertical-align: middle;\n",
       "    }\n",
       "\n",
       "    .dataframe tbody tr th {\n",
       "        vertical-align: top;\n",
       "    }\n",
       "\n",
       "    .dataframe thead th {\n",
       "        text-align: right;\n",
       "    }\n",
       "</style>\n",
       "<table border=\"1\" class=\"dataframe\">\n",
       "  <thead>\n",
       "    <tr style=\"text-align: right;\">\n",
       "      <th></th>\n",
       "      <th>Pregnancies</th>\n",
       "      <th>Glucose</th>\n",
       "      <th>BloodPressure</th>\n",
       "      <th>SkinThickness</th>\n",
       "      <th>Insulin</th>\n",
       "      <th>BMI</th>\n",
       "      <th>DiabetesPedigreeFunction</th>\n",
       "      <th>Age</th>\n",
       "      <th>Outcome</th>\n",
       "    </tr>\n",
       "  </thead>\n",
       "  <tbody>\n",
       "    <tr>\n",
       "      <th>0</th>\n",
       "      <td>6</td>\n",
       "      <td>148</td>\n",
       "      <td>72</td>\n",
       "      <td>35</td>\n",
       "      <td>0</td>\n",
       "      <td>33.6</td>\n",
       "      <td>0.627</td>\n",
       "      <td>50</td>\n",
       "      <td>1</td>\n",
       "    </tr>\n",
       "    <tr>\n",
       "      <th>1</th>\n",
       "      <td>1</td>\n",
       "      <td>85</td>\n",
       "      <td>66</td>\n",
       "      <td>29</td>\n",
       "      <td>0</td>\n",
       "      <td>26.6</td>\n",
       "      <td>0.351</td>\n",
       "      <td>31</td>\n",
       "      <td>0</td>\n",
       "    </tr>\n",
       "    <tr>\n",
       "      <th>2</th>\n",
       "      <td>8</td>\n",
       "      <td>183</td>\n",
       "      <td>64</td>\n",
       "      <td>0</td>\n",
       "      <td>0</td>\n",
       "      <td>23.3</td>\n",
       "      <td>0.672</td>\n",
       "      <td>32</td>\n",
       "      <td>1</td>\n",
       "    </tr>\n",
       "    <tr>\n",
       "      <th>3</th>\n",
       "      <td>1</td>\n",
       "      <td>89</td>\n",
       "      <td>66</td>\n",
       "      <td>23</td>\n",
       "      <td>94</td>\n",
       "      <td>28.1</td>\n",
       "      <td>0.167</td>\n",
       "      <td>21</td>\n",
       "      <td>0</td>\n",
       "    </tr>\n",
       "    <tr>\n",
       "      <th>4</th>\n",
       "      <td>0</td>\n",
       "      <td>137</td>\n",
       "      <td>40</td>\n",
       "      <td>35</td>\n",
       "      <td>168</td>\n",
       "      <td>43.1</td>\n",
       "      <td>2.288</td>\n",
       "      <td>33</td>\n",
       "      <td>1</td>\n",
       "    </tr>\n",
       "  </tbody>\n",
       "</table>\n",
       "</div>"
      ],
      "text/plain": [
       "   Pregnancies  Glucose  BloodPressure  SkinThickness  Insulin   BMI  \\\n",
       "0            6      148             72             35        0  33.6   \n",
       "1            1       85             66             29        0  26.6   \n",
       "2            8      183             64              0        0  23.3   \n",
       "3            1       89             66             23       94  28.1   \n",
       "4            0      137             40             35      168  43.1   \n",
       "\n",
       "   DiabetesPedigreeFunction  Age  Outcome  \n",
       "0                     0.627   50        1  \n",
       "1                     0.351   31        0  \n",
       "2                     0.672   32        1  \n",
       "3                     0.167   21        0  \n",
       "4                     2.288   33        1  "
      ]
     },
     "execution_count": 3,
     "metadata": {},
     "output_type": "execute_result"
    }
   ],
   "source": [
    "# Load the Pima Indian Diabetes dataset (from UCI repository)\n",
    "url = \"https://raw.githubusercontent.com/jbrownlee/Datasets/master/pima-indians-diabetes.data.csv\"\n",
    "columns = ['Pregnancies', 'Glucose', 'BloodPressure', 'SkinThickness', 'Insulin', 'BMI',\n",
    "           'DiabetesPedigreeFunction', 'Age', 'Outcome']\n",
    "\n",
    "# Load the dataset\n",
    "df = pd.read_csv(url, names=columns)\n",
    "\n",
    "df.head()"
   ]
  },
  {
   "cell_type": "code",
   "execution_count": 4,
   "id": "64cd30c4",
   "metadata": {},
   "outputs": [
    {
     "name": "stdout",
     "output_type": "stream",
     "text": [
      "Pregnancies                 0\n",
      "Glucose                     0\n",
      "BloodPressure               0\n",
      "SkinThickness               0\n",
      "Insulin                     0\n",
      "BMI                         0\n",
      "DiabetesPedigreeFunction    0\n",
      "Age                         0\n",
      "Outcome                     0\n",
      "dtype: int64\n"
     ]
    }
   ],
   "source": [
    "# Replace zero values with NaN in columns where zero is not a valid value\n",
    "cols_with_missing_vals = ['Glucose', 'BloodPressure', 'SkinThickness', 'Insulin', 'BMI']\n",
    "df[cols_with_missing_vals] = df[cols_with_missing_vals].replace(0, np.nan)\n",
    "\n",
    "# Impute the missing values with the mean of the respective column\n",
    "df.fillna(df.mean(), inplace=True)\n",
    "\n",
    "# Check if there are any remaining missing values\n",
    "print(df.isnull().sum())"
   ]
  },
  {
   "cell_type": "code",
   "execution_count": 5,
   "id": "63d46635",
   "metadata": {},
   "outputs": [
    {
     "name": "stdout",
     "output_type": "stream",
     "text": [
      "Training set shape: (537, 8)\n",
      "Test set shape: (231, 8)\n"
     ]
    }
   ],
   "source": [
    "X = df.drop('Outcome',axis=1)\n",
    "y = df['Outcome']\n",
    "\n",
    "X_train, X_test, y_train, y_test = train_test_split(X, y, test_size=0.3, random_state=42)\n",
    "\n",
    "scaler = StandardScaler()\n",
    "scaler.fit_transform(X_train)\n",
    "X_test = scaler.transform(X_test)\n",
    "\n",
    "# checking the shape of data\n",
    "print(f'Training set shape: {X_train.shape}')\n",
    "print(f'Test set shape: {X_test.shape}')"
   ]
  },
  {
   "cell_type": "markdown",
   "id": "d7351cdd",
   "metadata": {},
   "source": [
    "Objective Function"
   ]
  },
  {
   "cell_type": "code",
   "execution_count": 6,
   "id": "27eca6d3",
   "metadata": {},
   "outputs": [],
   "source": [
    "from sklearn.ensemble import RandomForestClassifier\n",
    "from sklearn.model_selection import cross_val_score\n",
    "\n",
    "# Define the objective function\n",
    "def objective(trial):\n",
    "    # Suggest values for the hyperparameters\n",
    "    n_estimators = trial.suggest_int('n_estimators',50,200)\n",
    "    max_depth = trial.suggest_int('max_depth',3,20)\n",
    "\n",
    "    # Create the RandomForestClassifier with suggested hyperparameters\n",
    "    clf = RandomForestClassifier(n_estimators=n_estimators,max_depth=max_depth,random_state=42)\n",
    "\n",
    "    score = cross_val_score(clf,X_train,y_train,cv=5,scoring='accuracy').mean()\n",
    "    return score"
   ]
  },
  {
   "cell_type": "markdown",
   "id": "dfa9276a",
   "metadata": {},
   "source": [
    "Bayesian Search (using TPE Sampler)"
   ]
  },
  {
   "cell_type": "code",
   "execution_count": 15,
   "id": "773ae1d7",
   "metadata": {},
   "outputs": [
    {
     "name": "stderr",
     "output_type": "stream",
     "text": [
      "[I 2025-07-05 10:15:54,104] A new study created in memory with name: Learning Optuna\n",
      "[I 2025-07-05 10:15:54,759] Trial 0 finished with value: 0.7633956386292835 and parameters: {'n_estimators': 96, 'max_depth': 8}. Best is trial 0 with value: 0.7633956386292835.\n",
      "[I 2025-07-05 10:15:56,067] Trial 1 finished with value: 0.770889581169955 and parameters: {'n_estimators': 191, 'max_depth': 9}. Best is trial 1 with value: 0.770889581169955.\n",
      "[I 2025-07-05 10:15:56,898] Trial 2 finished with value: 0.7522845275181723 and parameters: {'n_estimators': 143, 'max_depth': 4}. Best is trial 1 with value: 0.770889581169955.\n",
      "[I 2025-07-05 10:15:57,408] Trial 3 finished with value: 0.7559709241952232 and parameters: {'n_estimators': 76, 'max_depth': 12}. Best is trial 1 with value: 0.770889581169955.\n",
      "[I 2025-07-05 10:15:58,185] Trial 4 finished with value: 0.757840083073728 and parameters: {'n_estimators': 123, 'max_depth': 18}. Best is trial 1 with value: 0.770889581169955.\n",
      "[I 2025-07-05 10:15:58,879] Trial 5 finished with value: 0.7615264797507788 and parameters: {'n_estimators': 107, 'max_depth': 13}. Best is trial 1 with value: 0.770889581169955.\n",
      "[I 2025-07-05 10:15:59,363] Trial 6 finished with value: 0.7652821045344409 and parameters: {'n_estimators': 71, 'max_depth': 20}. Best is trial 1 with value: 0.770889581169955.\n",
      "[I 2025-07-05 10:16:00,169] Trial 7 finished with value: 0.7764624437521632 and parameters: {'n_estimators': 127, 'max_depth': 9}. Best is trial 7 with value: 0.7764624437521632.\n",
      "[I 2025-07-05 10:16:01,415] Trial 8 finished with value: 0.7652474904811353 and parameters: {'n_estimators': 190, 'max_depth': 10}. Best is trial 7 with value: 0.7764624437521632.\n",
      "[I 2025-07-05 10:16:01,905] Trial 9 finished with value: 0.7634302526825891 and parameters: {'n_estimators': 70, 'max_depth': 16}. Best is trial 7 with value: 0.7764624437521632.\n",
      "[I 2025-07-05 10:16:02,853] Trial 10 finished with value: 0.750398061613015 and parameters: {'n_estimators': 158, 'max_depth': 3}. Best is trial 7 with value: 0.7764624437521632.\n",
      "[I 2025-07-05 10:16:04,110] Trial 11 finished with value: 0.765282104534441 and parameters: {'n_estimators': 195, 'max_depth': 7}. Best is trial 7 with value: 0.7764624437521632.\n",
      "[I 2025-07-05 10:16:05,183] Trial 12 finished with value: 0.7634129456559362 and parameters: {'n_estimators': 166, 'max_depth': 7}. Best is trial 7 with value: 0.7764624437521632.\n",
      "[I 2025-07-05 10:16:06,278] Trial 13 finished with value: 0.7652474904811353 and parameters: {'n_estimators': 166, 'max_depth': 10}. Best is trial 7 with value: 0.7764624437521632.\n",
      "[I 2025-07-05 10:16:07,173] Trial 14 finished with value: 0.7503288335064034 and parameters: {'n_estimators': 132, 'max_depth': 14}. Best is trial 7 with value: 0.7764624437521632.\n",
      "[I 2025-07-05 10:16:07,513] Trial 15 finished with value: 0.7597265489788854 and parameters: {'n_estimators': 50, 'max_depth': 5}. Best is trial 7 with value: 0.7764624437521632.\n",
      "[I 2025-07-05 10:16:08,836] Trial 16 finished with value: 0.7652474904811353 and parameters: {'n_estimators': 200, 'max_depth': 10}. Best is trial 7 with value: 0.7764624437521632.\n",
      "[I 2025-07-05 10:16:10,033] Trial 17 finished with value: 0.7634129456559362 and parameters: {'n_estimators': 174, 'max_depth': 15}. Best is trial 7 with value: 0.7764624437521632.\n",
      "[I 2025-07-05 10:16:10,735] Trial 18 finished with value: 0.7634129456559362 and parameters: {'n_estimators': 111, 'max_depth': 8}. Best is trial 7 with value: 0.7764624437521632.\n",
      "[I 2025-07-05 10:16:11,662] Trial 19 finished with value: 0.7633956386292835 and parameters: {'n_estimators': 147, 'max_depth': 6}. Best is trial 7 with value: 0.7764624437521632.\n",
      "[I 2025-07-05 10:16:12,868] Trial 20 finished with value: 0.7633956386292835 and parameters: {'n_estimators': 179, 'max_depth': 11}. Best is trial 7 with value: 0.7764624437521632.\n",
      "[I 2025-07-05 10:16:14,106] Trial 21 finished with value: 0.7634302526825891 and parameters: {'n_estimators': 199, 'max_depth': 8}. Best is trial 7 with value: 0.7764624437521632.\n",
      "[I 2025-07-05 10:16:15,238] Trial 22 finished with value: 0.7634129456559363 and parameters: {'n_estimators': 184, 'max_depth': 6}. Best is trial 7 with value: 0.7764624437521632.\n",
      "[I 2025-07-05 10:16:16,198] Trial 23 finished with value: 0.772741433021807 and parameters: {'n_estimators': 150, 'max_depth': 9}. Best is trial 7 with value: 0.7764624437521632.\n",
      "[I 2025-07-05 10:16:17,152] Trial 24 finished with value: 0.772741433021807 and parameters: {'n_estimators': 149, 'max_depth': 9}. Best is trial 7 with value: 0.7764624437521632.\n",
      "[I 2025-07-05 10:16:18,114] Trial 25 finished with value: 0.75404984423676 and parameters: {'n_estimators': 145, 'max_depth': 12}. Best is trial 7 with value: 0.7764624437521632.\n",
      "[I 2025-07-05 10:16:18,932] Trial 26 finished with value: 0.7652821045344409 and parameters: {'n_estimators': 125, 'max_depth': 10}. Best is trial 7 with value: 0.7764624437521632.\n",
      "[I 2025-07-05 10:16:19,923] Trial 27 finished with value: 0.761509172724126 and parameters: {'n_estimators': 153, 'max_depth': 11}. Best is trial 7 with value: 0.7764624437521632.\n",
      "[I 2025-07-05 10:16:20,803] Trial 28 finished with value: 0.7614918656974732 and parameters: {'n_estimators': 135, 'max_depth': 13}. Best is trial 7 with value: 0.7764624437521632.\n",
      "[I 2025-07-05 10:16:21,570] Trial 29 finished with value: 0.7727414330218068 and parameters: {'n_estimators': 111, 'max_depth': 9}. Best is trial 7 with value: 0.7764624437521632.\n",
      "[I 2025-07-05 10:16:22,250] Trial 30 finished with value: 0.7596746278989269 and parameters: {'n_estimators': 93, 'max_depth': 6}. Best is trial 7 with value: 0.7764624437521632.\n",
      "[I 2025-07-05 10:16:22,974] Trial 31 finished with value: 0.7727414330218068 and parameters: {'n_estimators': 111, 'max_depth': 9}. Best is trial 7 with value: 0.7764624437521632.\n",
      "[I 2025-07-05 10:16:23,617] Trial 32 finished with value: 0.7634129456559363 and parameters: {'n_estimators': 95, 'max_depth': 9}. Best is trial 7 with value: 0.7764624437521632.\n",
      "[I 2025-07-05 10:16:24,425] Trial 33 finished with value: 0.7559882312218761 and parameters: {'n_estimators': 125, 'max_depth': 8}. Best is trial 7 with value: 0.7764624437521632.\n",
      "[I 2025-07-05 10:16:25,302] Trial 34 finished with value: 0.7596919349255797 and parameters: {'n_estimators': 135, 'max_depth': 7}. Best is trial 7 with value: 0.7764624437521632.\n",
      "[I 2025-07-05 10:16:25,992] Trial 35 finished with value: 0.7689858082381447 and parameters: {'n_estimators': 105, 'max_depth': 9}. Best is trial 7 with value: 0.7764624437521632.\n",
      "[I 2025-07-05 10:16:27,009] Trial 36 finished with value: 0.7502942194530979 and parameters: {'n_estimators': 157, 'max_depth': 12}. Best is trial 7 with value: 0.7764624437521632.\n",
      "[I 2025-07-05 10:16:27,717] Trial 37 finished with value: 0.7485289027345102 and parameters: {'n_estimators': 119, 'max_depth': 5}. Best is trial 7 with value: 0.7764624437521632.\n",
      "[I 2025-07-05 10:16:28,271] Trial 38 finished with value: 0.7708549671166494 and parameters: {'n_estimators': 84, 'max_depth': 9}. Best is trial 7 with value: 0.7764624437521632.\n",
      "[I 2025-07-05 10:16:29,177] Trial 39 finished with value: 0.7633610245759779 and parameters: {'n_estimators': 139, 'max_depth': 11}. Best is trial 7 with value: 0.7764624437521632.\n",
      "[I 2025-07-05 10:16:29,945] Trial 40 finished with value: 0.7596919349255797 and parameters: {'n_estimators': 117, 'max_depth': 13}. Best is trial 7 with value: 0.7764624437521632.\n",
      "[I 2025-07-05 10:16:30,642] Trial 41 finished with value: 0.7690204222914503 and parameters: {'n_estimators': 106, 'max_depth': 9}. Best is trial 7 with value: 0.7764624437521632.\n",
      "[I 2025-07-05 10:16:31,402] Trial 42 finished with value: 0.7708549671166494 and parameters: {'n_estimators': 113, 'max_depth': 10}. Best is trial 7 with value: 0.7764624437521632.\n",
      "[I 2025-07-05 10:16:32,058] Trial 43 finished with value: 0.7652994115610938 and parameters: {'n_estimators': 101, 'max_depth': 7}. Best is trial 7 with value: 0.7764624437521632.\n",
      "[I 2025-07-05 10:16:32,893] Trial 44 finished with value: 0.770889581169955 and parameters: {'n_estimators': 130, 'max_depth': 9}. Best is trial 7 with value: 0.7764624437521632.\n",
      "[I 2025-07-05 10:16:33,897] Trial 45 finished with value: 0.7634302526825891 and parameters: {'n_estimators': 151, 'max_depth': 8}. Best is trial 7 with value: 0.7764624437521632.\n",
      "[I 2025-07-05 10:16:35,036] Trial 46 finished with value: 0.7634302526825891 and parameters: {'n_estimators': 166, 'max_depth': 20}. Best is trial 7 with value: 0.7764624437521632.\n",
      "[I 2025-07-05 10:16:35,826] Trial 47 finished with value: 0.7559536171685706 and parameters: {'n_estimators': 117, 'max_depth': 17}. Best is trial 7 with value: 0.7764624437521632.\n",
      "[I 2025-07-05 10:16:36,771] Trial 48 finished with value: 0.7633610245759779 and parameters: {'n_estimators': 140, 'max_depth': 11}. Best is trial 7 with value: 0.7764624437521632.\n",
      "[I 2025-07-05 10:16:37,658] Trial 49 finished with value: 0.7485289027345102 and parameters: {'n_estimators': 162, 'max_depth': 3}. Best is trial 7 with value: 0.7764624437521632.\n"
     ]
    }
   ],
   "source": [
    "# Create a study object and optimize the objective function\n",
    "study = optuna.create_study(study_name='Learning Optuna',direction='maximize',sampler=optuna.samplers.TPESampler())\n",
    "study.optimize(objective,n_trials=50) # Run 50 trials to find the best hyperparameters\n"
   ]
  },
  {
   "cell_type": "code",
   "execution_count": 16,
   "id": "91051d34",
   "metadata": {},
   "outputs": [
    {
     "name": "stdout",
     "output_type": "stream",
     "text": [
      "Best trial accuracy: 0.7764624437521632\n",
      "Best hyperparameters: {'n_estimators': 127, 'max_depth': 9}\n"
     ]
    }
   ],
   "source": [
    "# Print the best result\n",
    "print(f'Best trial accuracy: {study.best_trial.value}')\n",
    "print(f'Best hyperparameters: {study.best_trial.params}')"
   ]
  },
  {
   "cell_type": "code",
   "execution_count": 17,
   "id": "7df39f12",
   "metadata": {},
   "outputs": [
    {
     "name": "stdout",
     "output_type": "stream",
     "text": [
      "Test Accuracy with best hyperparameters: 0.65\n"
     ]
    },
    {
     "name": "stderr",
     "output_type": "stream",
     "text": [
      "c:\\Users\\KIIT\\anaconda-3\\Lib\\site-packages\\sklearn\\base.py:493: UserWarning: X does not have valid feature names, but RandomForestClassifier was fitted with feature names\n",
      "  warnings.warn(\n"
     ]
    }
   ],
   "source": [
    "from sklearn.metrics import accuracy_score\n",
    "\n",
    "# Train a RandomForestClassifier using the best hyperparameters from Optuna\n",
    "best_model = RandomForestClassifier(**study.best_trial.params, random_state=42)\n",
    "\n",
    "# Fit the model to the training data\n",
    "best_model.fit(X_train, y_train)\n",
    "\n",
    "# Make predictions on the test set\n",
    "y_pred = best_model.predict(X_test)\n",
    "\n",
    "# Calculate the accuracy on the test set\n",
    "test_accuracy = accuracy_score(y_test, y_pred)\n",
    "\n",
    "# Print the test accuracy\n",
    "print(f'Test Accuracy with best hyperparameters: {test_accuracy:.2f}')\n"
   ]
  },
  {
   "cell_type": "markdown",
   "id": "96949a3b",
   "metadata": {},
   "source": [
    "Random Search (using Random Sampler)"
   ]
  },
  {
   "cell_type": "code",
   "execution_count": 19,
   "id": "e9a5391a",
   "metadata": {},
   "outputs": [
    {
     "name": "stderr",
     "output_type": "stream",
     "text": [
      "[I 2025-07-05 10:22:41,733] A new study created in memory with name: Learning Optuna\n",
      "[I 2025-07-05 10:22:42,800] Trial 0 finished with value: 0.7671339563862929 and parameters: {'n_estimators': 159, 'max_depth': 19}. Best is trial 0 with value: 0.7671339563862929.\n",
      "[I 2025-07-05 10:22:43,785] Trial 1 finished with value: 0.7671339563862929 and parameters: {'n_estimators': 161, 'max_depth': 16}. Best is trial 0 with value: 0.7671339563862929.\n",
      "[I 2025-07-05 10:22:44,408] Trial 2 finished with value: 0.7503980616130149 and parameters: {'n_estimators': 97, 'max_depth': 17}. Best is trial 0 with value: 0.7671339563862929.\n",
      "[I 2025-07-05 10:22:44,905] Trial 3 finished with value: 0.7615784008307374 and parameters: {'n_estimators': 77, 'max_depth': 19}. Best is trial 0 with value: 0.7671339563862929.\n",
      "[I 2025-07-05 10:22:45,625] Trial 4 finished with value: 0.7577881619937694 and parameters: {'n_estimators': 118, 'max_depth': 12}. Best is trial 0 with value: 0.7671339563862929.\n",
      "[I 2025-07-05 10:22:46,768] Trial 5 finished with value: 0.7615437867774316 and parameters: {'n_estimators': 186, 'max_depth': 14}. Best is trial 0 with value: 0.7671339563862929.\n",
      "[I 2025-07-05 10:22:47,885] Trial 6 finished with value: 0.7615610938040843 and parameters: {'n_estimators': 182, 'max_depth': 8}. Best is trial 0 with value: 0.7671339563862929.\n",
      "[I 2025-07-05 10:22:48,793] Trial 7 finished with value: 0.7633956386292835 and parameters: {'n_estimators': 146, 'max_depth': 10}. Best is trial 0 with value: 0.7671339563862929.\n",
      "[I 2025-07-05 10:22:49,465] Trial 8 finished with value: 0.7578054690204222 and parameters: {'n_estimators': 104, 'max_depth': 12}. Best is trial 0 with value: 0.7671339563862929.\n",
      "[I 2025-07-05 10:22:50,315] Trial 9 finished with value: 0.7522672204915196 and parameters: {'n_estimators': 153, 'max_depth': 4}. Best is trial 0 with value: 0.7671339563862929.\n",
      "[I 2025-07-05 10:22:50,815] Trial 10 finished with value: 0.7466943579093112 and parameters: {'n_estimators': 89, 'max_depth': 5}. Best is trial 0 with value: 0.7671339563862929.\n",
      "[I 2025-07-05 10:22:51,247] Trial 11 finished with value: 0.7634302526825891 and parameters: {'n_estimators': 58, 'max_depth': 20}. Best is trial 0 with value: 0.7671339563862929.\n",
      "[I 2025-07-05 10:22:52,119] Trial 12 finished with value: 0.7615610938040844 and parameters: {'n_estimators': 151, 'max_depth': 7}. Best is trial 0 with value: 0.7671339563862929.\n",
      "[I 2025-07-05 10:22:52,735] Trial 13 finished with value: 0.7615437867774315 and parameters: {'n_estimators': 96, 'max_depth': 13}. Best is trial 0 with value: 0.7671339563862929.\n",
      "[I 2025-07-05 10:22:53,842] Trial 14 finished with value: 0.759674627898927 and parameters: {'n_estimators': 178, 'max_depth': 11}. Best is trial 0 with value: 0.7671339563862929.\n",
      "[I 2025-07-05 10:22:54,785] Trial 15 finished with value: 0.7522326064382139 and parameters: {'n_estimators': 165, 'max_depth': 5}. Best is trial 0 with value: 0.7671339563862929.\n",
      "[I 2025-07-05 10:22:55,295] Trial 16 finished with value: 0.7596919349255798 and parameters: {'n_estimators': 81, 'max_depth': 20}. Best is trial 0 with value: 0.7671339563862929.\n",
      "[I 2025-07-05 10:22:56,025] Trial 17 finished with value: 0.7559709241952233 and parameters: {'n_estimators': 114, 'max_depth': 14}. Best is trial 0 with value: 0.7671339563862929.\n",
      "[I 2025-07-05 10:22:56,975] Trial 18 finished with value: 0.7671339563862929 and parameters: {'n_estimators': 151, 'max_depth': 16}. Best is trial 0 with value: 0.7671339563862929.\n",
      "[I 2025-07-05 10:22:57,638] Trial 19 finished with value: 0.7596746278989269 and parameters: {'n_estimators': 98, 'max_depth': 13}. Best is trial 0 with value: 0.7671339563862929.\n",
      "[I 2025-07-05 10:22:58,625] Trial 20 finished with value: 0.7559536171685705 and parameters: {'n_estimators': 119, 'max_depth': 15}. Best is trial 0 with value: 0.7671339563862929.\n",
      "[I 2025-07-05 10:22:58,925] Trial 21 finished with value: 0.7522845275181723 and parameters: {'n_estimators': 51, 'max_depth': 3}. Best is trial 0 with value: 0.7671339563862929.\n",
      "[I 2025-07-05 10:22:59,545] Trial 22 finished with value: 0.7522845275181723 and parameters: {'n_estimators': 106, 'max_depth': 4}. Best is trial 0 with value: 0.7671339563862929.\n",
      "[I 2025-07-05 10:23:00,268] Trial 23 finished with value: 0.7615264797507788 and parameters: {'n_estimators': 113, 'max_depth': 6}. Best is trial 0 with value: 0.7671339563862929.\n",
      "[I 2025-07-05 10:23:00,871] Trial 24 finished with value: 0.7578054690204222 and parameters: {'n_estimators': 91, 'max_depth': 11}. Best is trial 0 with value: 0.7671339563862929.\n",
      "[I 2025-07-05 10:23:01,866] Trial 25 finished with value: 0.748563516787816 and parameters: {'n_estimators': 190, 'max_depth': 3}. Best is trial 0 with value: 0.7671339563862929.\n",
      "[I 2025-07-05 10:23:02,509] Trial 26 finished with value: 0.757822776047075 and parameters: {'n_estimators': 105, 'max_depth': 15}. Best is trial 0 with value: 0.7671339563862929.\n",
      "[I 2025-07-05 10:23:03,069] Trial 27 finished with value: 0.7596746278989269 and parameters: {'n_estimators': 93, 'max_depth': 6}. Best is trial 0 with value: 0.7671339563862929.\n",
      "[I 2025-07-05 10:23:03,449] Trial 28 finished with value: 0.7466251298026998 and parameters: {'n_estimators': 56, 'max_depth': 10}. Best is trial 0 with value: 0.7671339563862929.\n",
      "[I 2025-07-05 10:23:04,509] Trial 29 finished with value: 0.7652474904811353 and parameters: {'n_estimators': 172, 'max_depth': 10}. Best is trial 0 with value: 0.7671339563862929.\n",
      "[I 2025-07-05 10:23:05,207] Trial 30 finished with value: 0.7597092419522327 and parameters: {'n_estimators': 112, 'max_depth': 17}. Best is trial 0 with value: 0.7671339563862929.\n",
      "[I 2025-07-05 10:23:06,312] Trial 31 finished with value: 0.7597092419522327 and parameters: {'n_estimators': 184, 'max_depth': 7}. Best is trial 0 with value: 0.7671339563862929.\n",
      "[I 2025-07-05 10:23:06,757] Trial 32 finished with value: 0.7615264797507788 and parameters: {'n_estimators': 64, 'max_depth': 15}. Best is trial 0 with value: 0.7671339563862929.\n",
      "[I 2025-07-05 10:23:07,514] Trial 33 finished with value: 0.7615264797507788 and parameters: {'n_estimators': 107, 'max_depth': 13}. Best is trial 0 with value: 0.7671339563862929.\n",
      "[I 2025-07-05 10:23:08,266] Trial 34 finished with value: 0.7634129456559362 and parameters: {'n_estimators': 119, 'max_depth': 8}. Best is trial 0 with value: 0.7671339563862929.\n",
      "[I 2025-07-05 10:23:09,334] Trial 35 finished with value: 0.748563516787816 and parameters: {'n_estimators': 188, 'max_depth': 3}. Best is trial 0 with value: 0.7671339563862929.\n",
      "[I 2025-07-05 10:23:10,255] Trial 36 finished with value: 0.7633783316026306 and parameters: {'n_estimators': 151, 'max_depth': 10}. Best is trial 0 with value: 0.7671339563862929.\n",
      "[I 2025-07-05 10:23:10,587] Trial 37 finished with value: 0.7671512634129456 and parameters: {'n_estimators': 50, 'max_depth': 9}. Best is trial 37 with value: 0.7671512634129456.\n",
      "[I 2025-07-05 10:23:11,154] Trial 38 finished with value: 0.7523018345448251 and parameters: {'n_estimators': 102, 'max_depth': 4}. Best is trial 37 with value: 0.7671512634129456.\n",
      "[I 2025-07-05 10:23:12,376] Trial 39 finished with value: 0.7634129456559363 and parameters: {'n_estimators': 193, 'max_depth': 14}. Best is trial 37 with value: 0.7671512634129456.\n",
      "[I 2025-07-05 10:23:13,094] Trial 40 finished with value: 0.7541190723433714 and parameters: {'n_estimators': 110, 'max_depth': 14}. Best is trial 37 with value: 0.7671512634129456.\n",
      "[I 2025-07-05 10:23:14,125] Trial 41 finished with value: 0.7596919349255797 and parameters: {'n_estimators': 159, 'max_depth': 6}. Best is trial 37 with value: 0.7671512634129456.\n",
      "[I 2025-07-05 10:23:14,962] Trial 42 finished with value: 0.7578227760470752 and parameters: {'n_estimators': 126, 'max_depth': 16}. Best is trial 37 with value: 0.7671512634129456.\n",
      "[I 2025-07-05 10:23:15,384] Trial 43 finished with value: 0.7541190723433714 and parameters: {'n_estimators': 68, 'max_depth': 5}. Best is trial 37 with value: 0.7671512634129456.\n",
      "[I 2025-07-05 10:23:15,904] Trial 44 finished with value: 0.757840083073728 and parameters: {'n_estimators': 81, 'max_depth': 19}. Best is trial 37 with value: 0.7671512634129456.\n",
      "[I 2025-07-05 10:23:16,364] Trial 45 finished with value: 0.7671166493596401 and parameters: {'n_estimators': 73, 'max_depth': 6}. Best is trial 37 with value: 0.7671512634129456.\n",
      "[I 2025-07-05 10:23:17,527] Trial 46 finished with value: 0.7652474904811353 and parameters: {'n_estimators': 174, 'max_depth': 10}. Best is trial 37 with value: 0.7671512634129456.\n",
      "[I 2025-07-05 10:23:18,658] Trial 47 finished with value: 0.7503980616130148 and parameters: {'n_estimators': 158, 'max_depth': 4}. Best is trial 37 with value: 0.7671512634129456.\n",
      "[I 2025-07-05 10:23:19,709] Trial 48 finished with value: 0.7746278989269643 and parameters: {'n_estimators': 167, 'max_depth': 9}. Best is trial 48 with value: 0.7746278989269643.\n",
      "[I 2025-07-05 10:23:20,349] Trial 49 finished with value: 0.7559882312218761 and parameters: {'n_estimators': 99, 'max_depth': 15}. Best is trial 48 with value: 0.7746278989269643.\n"
     ]
    }
   ],
   "source": [
    "study = optuna.create_study(study_name='Learning Optuna',direction='maximize',sampler=optuna.samplers.RandomSampler())\n",
    "study.optimize(objective,n_trials=50) # Run 50 trials to find the best hyperparameters\n"
   ]
  },
  {
   "cell_type": "code",
   "execution_count": 21,
   "id": "5d95bf2b",
   "metadata": {},
   "outputs": [
    {
     "name": "stdout",
     "output_type": "stream",
     "text": [
      "Best trial accuracy: 0.7746278989269643\n",
      "Best Hyperparameters: {'n_estimators': 167, 'max_depth': 9}\n"
     ]
    }
   ],
   "source": [
    "print(f'Best trial accuracy: {study.best_trial.value}')\n",
    "print(f'Best Hyperparameters: {study.best_trial.params}')"
   ]
  },
  {
   "cell_type": "code",
   "execution_count": 22,
   "id": "697c307d",
   "metadata": {},
   "outputs": [
    {
     "name": "stdout",
     "output_type": "stream",
     "text": [
      "Test Accuracy with best hyperparameters: 0.65\n"
     ]
    },
    {
     "name": "stderr",
     "output_type": "stream",
     "text": [
      "c:\\Users\\KIIT\\anaconda-3\\Lib\\site-packages\\sklearn\\base.py:493: UserWarning: X does not have valid feature names, but RandomForestClassifier was fitted with feature names\n",
      "  warnings.warn(\n"
     ]
    }
   ],
   "source": [
    "from sklearn.metrics import accuracy_score\n",
    "\n",
    "# Train a RandomForestClassifier using the best hyperparameters from Optuna\n",
    "best_model = RandomForestClassifier(**study.best_trial.params, random_state=42)\n",
    "\n",
    "# Fit the model to the training data\n",
    "best_model.fit(X_train, y_train)\n",
    "\n",
    "# Make predictions on the test set\n",
    "y_pred = best_model.predict(X_test)\n",
    "\n",
    "# Calculate the accuracy on the test set\n",
    "test_accuracy = accuracy_score(y_test, y_pred)\n",
    "\n",
    "# Print the test accuracy\n",
    "print(f'Test Accuracy with best hyperparameters: {test_accuracy:.2f}')\n"
   ]
  },
  {
   "cell_type": "markdown",
   "id": "a5f8380c",
   "metadata": {},
   "source": [
    "Grid Search (using Grid Sampler)"
   ]
  },
  {
   "cell_type": "code",
   "execution_count": 28,
   "id": "b46bb24b",
   "metadata": {},
   "outputs": [],
   "source": [
    "# for grid search, you need to explicitly define the search space outside of objective function.\n",
    "search_space = {\n",
    "    'n_estimators': [50, 100, 150, 200],\n",
    "    'max_depth': [5, 10, 15, 20]\n",
    "}"
   ]
  },
  {
   "cell_type": "code",
   "execution_count": 25,
   "id": "dea7dc77",
   "metadata": {},
   "outputs": [
    {
     "name": "stderr",
     "output_type": "stream",
     "text": [
      "[I 2025-07-05 10:26:19,611] A new study created in memory with name: Learning Optuna\n",
      "[I 2025-07-05 10:26:20,191] Trial 0 finished with value: 0.7541190723433715 and parameters: {'n_estimators': 100, 'max_depth': 5}. Best is trial 0 with value: 0.7541190723433715.\n",
      "[I 2025-07-05 10:26:21,103] Trial 1 finished with value: 0.7615264797507788 and parameters: {'n_estimators': 150, 'max_depth': 10}. Best is trial 1 with value: 0.7615264797507788.\n",
      "[I 2025-07-05 10:26:21,453] Trial 2 finished with value: 0.7634302526825891 and parameters: {'n_estimators': 50, 'max_depth': 15}. Best is trial 2 with value: 0.7634302526825891.\n",
      "[I 2025-07-05 10:26:22,071] Trial 3 finished with value: 0.7578573901003807 and parameters: {'n_estimators': 100, 'max_depth': 15}. Best is trial 2 with value: 0.7634302526825891.\n",
      "[I 2025-07-05 10:26:22,787] Trial 4 finished with value: 0.7597438560055382 and parameters: {'n_estimators': 100, 'max_depth': 20}. Best is trial 2 with value: 0.7634302526825891.\n",
      "[I 2025-07-05 10:26:23,140] Trial 5 finished with value: 0.750380754586362 and parameters: {'n_estimators': 50, 'max_depth': 10}. Best is trial 2 with value: 0.7634302526825891.\n",
      "[I 2025-07-05 10:26:24,036] Trial 6 finished with value: 0.750380754586362 and parameters: {'n_estimators': 150, 'max_depth': 5}. Best is trial 2 with value: 0.7634302526825891.\n",
      "[I 2025-07-05 10:26:25,027] Trial 7 finished with value: 0.7634129456559363 and parameters: {'n_estimators': 150, 'max_depth': 20}. Best is trial 2 with value: 0.7634302526825891.\n",
      "[I 2025-07-05 10:26:25,988] Trial 8 finished with value: 0.7633783316026307 and parameters: {'n_estimators': 150, 'max_depth': 15}. Best is trial 2 with value: 0.7634302526825891.\n",
      "[I 2025-07-05 10:26:27,220] Trial 9 finished with value: 0.7652474904811353 and parameters: {'n_estimators': 200, 'max_depth': 10}. Best is trial 9 with value: 0.7652474904811353.\n",
      "[I 2025-07-05 10:26:28,526] Trial 10 finished with value: 0.7690377293181031 and parameters: {'n_estimators': 200, 'max_depth': 20}. Best is trial 10 with value: 0.7690377293181031.\n",
      "[I 2025-07-05 10:26:32,568] Trial 11 finished with value: 0.7597092419522327 and parameters: {'n_estimators': 200, 'max_depth': 15}. Best is trial 10 with value: 0.7690377293181031.\n",
      "[I 2025-07-05 10:26:36,316] Trial 12 finished with value: 0.7559709241952233 and parameters: {'n_estimators': 200, 'max_depth': 5}. Best is trial 10 with value: 0.7690377293181031.\n",
      "[I 2025-07-05 10:26:37,320] Trial 13 finished with value: 0.7597265489788854 and parameters: {'n_estimators': 50, 'max_depth': 5}. Best is trial 10 with value: 0.7690377293181031.\n",
      "[I 2025-07-05 10:26:39,577] Trial 14 finished with value: 0.7708549671166494 and parameters: {'n_estimators': 100, 'max_depth': 10}. Best is trial 14 with value: 0.7708549671166494.\n",
      "[I 2025-07-05 10:26:40,747] Trial 15 finished with value: 0.7708549671166494 and parameters: {'n_estimators': 50, 'max_depth': 20}. Best is trial 14 with value: 0.7708549671166494.\n"
     ]
    }
   ],
   "source": [
    "study = optuna.create_study(study_name='Learning Optuna',direction='maximize',sampler=optuna.samplers.GridSampler(search_space=search_space))\n",
    "study.optimize(objective,n_trials=50) # Run 50 trials to find the best hyperparameters\n"
   ]
  },
  {
   "cell_type": "code",
   "execution_count": 26,
   "id": "03c85ccc",
   "metadata": {},
   "outputs": [
    {
     "name": "stdout",
     "output_type": "stream",
     "text": [
      "Best trial accuracy: 0.7708549671166494\n",
      "Best Hyperparameters: {'n_estimators': 100, 'max_depth': 10}\n"
     ]
    }
   ],
   "source": [
    "print(f'Best trial accuracy: {study.best_trial.value}')\n",
    "print(f'Best Hyperparameters: {study.best_trial.params}')"
   ]
  },
  {
   "cell_type": "markdown",
   "id": "34a6eefd",
   "metadata": {},
   "source": [
    "Optuna Visualizations"
   ]
  },
  {
   "cell_type": "code",
   "execution_count": 29,
   "id": "48a8aa1b",
   "metadata": {},
   "outputs": [],
   "source": [
    "from optuna.visualization import plot_optimization_history, plot_parallel_coordinate, plot_slice, plot_contour, plot_param_importances"
   ]
  },
  {
   "cell_type": "code",
   "execution_count": 31,
   "id": "a5a7ea82",
   "metadata": {},
   "outputs": [
    {
     "name": "stderr",
     "output_type": "stream",
     "text": [
      "[I 2025-07-05 10:45:10,585] A new study created in memory with name: Learning Optuna Visualization\n",
      "[I 2025-07-05 10:45:11,655] Trial 0 finished with value: 0.7709068881966079 and parameters: {'n_estimators': 174, 'max_depth': 9}. Best is trial 0 with value: 0.7709068881966079.\n",
      "[I 2025-07-05 10:45:12,436] Trial 1 finished with value: 0.7559709241952233 and parameters: {'n_estimators': 123, 'max_depth': 7}. Best is trial 0 with value: 0.7709068881966079.\n",
      "[I 2025-07-05 10:45:13,530] Trial 2 finished with value: 0.7652647975077882 and parameters: {'n_estimators': 160, 'max_depth': 17}. Best is trial 0 with value: 0.7709068881966079.\n",
      "[I 2025-07-05 10:45:14,652] Trial 3 finished with value: 0.7615264797507789 and parameters: {'n_estimators': 175, 'max_depth': 11}. Best is trial 0 with value: 0.7709068881966079.\n",
      "[I 2025-07-05 10:45:15,203] Trial 4 finished with value: 0.750380754586362 and parameters: {'n_estimators': 85, 'max_depth': 12}. Best is trial 0 with value: 0.7709068881966079.\n",
      "[I 2025-07-05 10:45:16,106] Trial 5 finished with value: 0.7504153686396677 and parameters: {'n_estimators': 171, 'max_depth': 3}. Best is trial 0 with value: 0.7709068881966079.\n",
      "[I 2025-07-05 10:45:16,646] Trial 6 finished with value: 0.7596919349255798 and parameters: {'n_estimators': 83, 'max_depth': 20}. Best is trial 0 with value: 0.7709068881966079.\n",
      "[I 2025-07-05 10:45:17,446] Trial 7 finished with value: 0.757822776047075 and parameters: {'n_estimators': 140, 'max_depth': 7}. Best is trial 0 with value: 0.7709068881966079.\n",
      "[I 2025-07-05 10:45:18,257] Trial 8 finished with value: 0.7541017653167186 and parameters: {'n_estimators': 149, 'max_depth': 5}. Best is trial 0 with value: 0.7709068881966079.\n",
      "[I 2025-07-05 10:45:18,655] Trial 9 finished with value: 0.7596919349255797 and parameters: {'n_estimators': 63, 'max_depth': 20}. Best is trial 0 with value: 0.7709068881966079.\n",
      "[I 2025-07-05 10:45:19,926] Trial 10 finished with value: 0.7521806853582554 and parameters: {'n_estimators': 195, 'max_depth': 12}. Best is trial 0 with value: 0.7709068881966079.\n",
      "[I 2025-07-05 10:45:21,239] Trial 11 finished with value: 0.7652994115610937 and parameters: {'n_estimators': 197, 'max_depth': 16}. Best is trial 0 with value: 0.7709068881966079.\n",
      "[I 2025-07-05 10:45:22,476] Trial 12 finished with value: 0.7597092419522327 and parameters: {'n_estimators': 195, 'max_depth': 15}. Best is trial 0 with value: 0.7709068881966079.\n",
      "[I 2025-07-05 10:45:23,232] Trial 13 finished with value: 0.7541017653167186 and parameters: {'n_estimators': 121, 'max_depth': 15}. Best is trial 0 with value: 0.7709068881966079.\n",
      "[I 2025-07-05 10:45:24,340] Trial 14 finished with value: 0.7690377293181031 and parameters: {'n_estimators': 183, 'max_depth': 9}. Best is trial 0 with value: 0.7709068881966079.\n",
      "[I 2025-07-05 10:45:25,527] Trial 15 finished with value: 0.7633783316026307 and parameters: {'n_estimators': 178, 'max_depth': 10}. Best is trial 0 with value: 0.7709068881966079.\n",
      "[I 2025-07-05 10:45:26,420] Trial 16 finished with value: 0.7727587400484597 and parameters: {'n_estimators': 140, 'max_depth': 9}. Best is trial 16 with value: 0.7727587400484597.\n",
      "[I 2025-07-05 10:45:27,094] Trial 17 finished with value: 0.7596746278989269 and parameters: {'n_estimators': 107, 'max_depth': 8}. Best is trial 16 with value: 0.7727587400484597.\n",
      "[I 2025-07-05 10:45:27,996] Trial 18 finished with value: 0.7614918656974732 and parameters: {'n_estimators': 139, 'max_depth': 13}. Best is trial 16 with value: 0.7727587400484597.\n",
      "[I 2025-07-05 10:45:28,943] Trial 19 finished with value: 0.7522326064382139 and parameters: {'n_estimators': 157, 'max_depth': 5}. Best is trial 16 with value: 0.7727587400484597.\n",
      "[I 2025-07-05 10:45:29,622] Trial 20 finished with value: 0.7522672204915196 and parameters: {'n_estimators': 104, 'max_depth': 5}. Best is trial 16 with value: 0.7727587400484597.\n",
      "[I 2025-07-05 10:45:30,786] Trial 21 finished with value: 0.769055036344756 and parameters: {'n_estimators': 177, 'max_depth': 9}. Best is trial 16 with value: 0.7727587400484597.\n",
      "[I 2025-07-05 10:45:31,796] Trial 22 finished with value: 0.776497057805469 and parameters: {'n_estimators': 165, 'max_depth': 9}. Best is trial 22 with value: 0.776497057805469.\n",
      "[I 2025-07-05 10:45:32,691] Trial 23 finished with value: 0.7615264797507788 and parameters: {'n_estimators': 137, 'max_depth': 10}. Best is trial 22 with value: 0.776497057805469.\n",
      "[I 2025-07-05 10:45:33,648] Trial 24 finished with value: 0.7596919349255797 and parameters: {'n_estimators': 160, 'max_depth': 7}. Best is trial 22 with value: 0.776497057805469.\n",
      "[I 2025-07-05 10:45:34,599] Trial 25 finished with value: 0.7652474904811353 and parameters: {'n_estimators': 148, 'max_depth': 13}. Best is trial 22 with value: 0.776497057805469.\n",
      "[I 2025-07-05 10:45:35,599] Trial 26 finished with value: 0.776497057805469 and parameters: {'n_estimators': 165, 'max_depth': 9}. Best is trial 22 with value: 0.776497057805469.\n",
      "[I 2025-07-05 10:45:36,528] Trial 27 finished with value: 0.765282104534441 and parameters: {'n_estimators': 161, 'max_depth': 6}. Best is trial 22 with value: 0.776497057805469.\n",
      "[I 2025-07-05 10:45:37,218] Trial 28 finished with value: 0.7522672204915196 and parameters: {'n_estimators': 131, 'max_depth': 3}. Best is trial 22 with value: 0.776497057805469.\n",
      "[I 2025-07-05 10:45:37,906] Trial 29 finished with value: 0.7708549671166494 and parameters: {'n_estimators': 108, 'max_depth': 10}. Best is trial 22 with value: 0.776497057805469.\n",
      "[I 2025-07-05 10:45:38,806] Trial 30 finished with value: 0.7596919349255797 and parameters: {'n_estimators': 150, 'max_depth': 8}. Best is trial 22 with value: 0.776497057805469.\n",
      "[I 2025-07-05 10:45:39,913] Trial 31 finished with value: 0.7634129456559362 and parameters: {'n_estimators': 170, 'max_depth': 8}. Best is trial 22 with value: 0.776497057805469.\n",
      "[I 2025-07-05 10:45:41,079] Trial 32 finished with value: 0.759674627898927 and parameters: {'n_estimators': 186, 'max_depth': 11}. Best is trial 22 with value: 0.776497057805469.\n",
      "[I 2025-07-05 10:45:42,062] Trial 33 finished with value: 0.776497057805469 and parameters: {'n_estimators': 165, 'max_depth': 9}. Best is trial 22 with value: 0.776497057805469.\n",
      "[I 2025-07-05 10:45:43,076] Trial 34 finished with value: 0.776497057805469 and parameters: {'n_estimators': 165, 'max_depth': 9}. Best is trial 22 with value: 0.776497057805469.\n",
      "[I 2025-07-05 10:45:44,170] Trial 35 finished with value: 0.7633783316026307 and parameters: {'n_estimators': 168, 'max_depth': 11}. Best is trial 22 with value: 0.776497057805469.\n",
      "[I 2025-07-05 10:45:45,306] Trial 36 finished with value: 0.7615437867774316 and parameters: {'n_estimators': 188, 'max_depth': 6}. Best is trial 22 with value: 0.776497057805469.\n",
      "[I 2025-07-05 10:45:46,387] Trial 37 finished with value: 0.7596573208722741 and parameters: {'n_estimators': 164, 'max_depth': 13}. Best is trial 22 with value: 0.776497057805469.\n",
      "[I 2025-07-05 10:45:47,336] Trial 38 finished with value: 0.7727414330218069 and parameters: {'n_estimators': 153, 'max_depth': 9}. Best is trial 22 with value: 0.776497057805469.\n",
      "[I 2025-07-05 10:45:48,180] Trial 39 finished with value: 0.7597092419522326 and parameters: {'n_estimators': 127, 'max_depth': 7}. Best is trial 22 with value: 0.776497057805469.\n",
      "[I 2025-07-05 10:45:48,980] Trial 40 finished with value: 0.7689858082381447 and parameters: {'n_estimators': 119, 'max_depth': 10}. Best is trial 22 with value: 0.776497057805469.\n",
      "[I 2025-07-05 10:45:50,096] Trial 41 finished with value: 0.7690377293181031 and parameters: {'n_estimators': 172, 'max_depth': 9}. Best is trial 22 with value: 0.776497057805469.\n",
      "[I 2025-07-05 10:45:51,053] Trial 42 finished with value: 0.75404984423676 and parameters: {'n_estimators': 145, 'max_depth': 12}. Best is trial 22 with value: 0.776497057805469.\n",
      "[I 2025-07-05 10:45:52,032] Trial 43 finished with value: 0.7634302526825891 and parameters: {'n_estimators': 155, 'max_depth': 8}. Best is trial 22 with value: 0.776497057805469.\n",
      "[I 2025-07-05 10:45:53,112] Trial 44 finished with value: 0.7633956386292835 and parameters: {'n_estimators': 177, 'max_depth': 6}. Best is trial 22 with value: 0.776497057805469.\n",
      "[I 2025-07-05 10:45:54,228] Trial 45 finished with value: 0.76711664935964 and parameters: {'n_estimators': 163, 'max_depth': 10}. Best is trial 22 with value: 0.776497057805469.\n",
      "[I 2025-07-05 10:45:54,626] Trial 46 finished with value: 0.7578227760470752 and parameters: {'n_estimators': 53, 'max_depth': 12}. Best is trial 22 with value: 0.776497057805469.\n",
      "[I 2025-07-05 10:45:55,616] Trial 47 finished with value: 0.7727587400484597 and parameters: {'n_estimators': 145, 'max_depth': 9}. Best is trial 22 with value: 0.776497057805469.\n",
      "[I 2025-07-05 10:45:56,486] Trial 48 finished with value: 0.7596227068189685 and parameters: {'n_estimators': 132, 'max_depth': 11}. Best is trial 22 with value: 0.776497057805469.\n",
      "[I 2025-07-05 10:45:57,586] Trial 49 finished with value: 0.7597092419522327 and parameters: {'n_estimators': 182, 'max_depth': 7}. Best is trial 22 with value: 0.776497057805469.\n"
     ]
    }
   ],
   "source": [
    "# Defining study object again for visualization\n",
    "study = optuna.create_study(study_name='Learning Optuna Visualization',direction='maximize',sampler=optuna.samplers.TPESampler())\n",
    "study.optimize(objective,n_trials=50) # Run 50 trials to find the best hyperparameters\n"
   ]
  },
  {
   "cell_type": "code",
   "execution_count": 32,
   "id": "83fa9767",
   "metadata": {},
   "outputs": [
    {
     "data": {
      "application/vnd.plotly.v1+json": {
       "config": {
        "plotlyServerURL": "https://plot.ly"
       },
       "data": [
        {
         "mode": "markers",
         "name": "Objective Value",
         "type": "scatter",
         "x": [
          0,
          1,
          2,
          3,
          4,
          5,
          6,
          7,
          8,
          9,
          10,
          11,
          12,
          13,
          14,
          15,
          16,
          17,
          18,
          19,
          20,
          21,
          22,
          23,
          24,
          25,
          26,
          27,
          28,
          29,
          30,
          31,
          32,
          33,
          34,
          35,
          36,
          37,
          38,
          39,
          40,
          41,
          42,
          43,
          44,
          45,
          46,
          47,
          48,
          49
         ],
         "y": [
          0.7709068881966079,
          0.7559709241952233,
          0.7652647975077882,
          0.7615264797507789,
          0.750380754586362,
          0.7504153686396677,
          0.7596919349255798,
          0.757822776047075,
          0.7541017653167186,
          0.7596919349255797,
          0.7521806853582554,
          0.7652994115610937,
          0.7597092419522327,
          0.7541017653167186,
          0.7690377293181031,
          0.7633783316026307,
          0.7727587400484597,
          0.7596746278989269,
          0.7614918656974732,
          0.7522326064382139,
          0.7522672204915196,
          0.769055036344756,
          0.776497057805469,
          0.7615264797507788,
          0.7596919349255797,
          0.7652474904811353,
          0.776497057805469,
          0.765282104534441,
          0.7522672204915196,
          0.7708549671166494,
          0.7596919349255797,
          0.7634129456559362,
          0.759674627898927,
          0.776497057805469,
          0.776497057805469,
          0.7633783316026307,
          0.7615437867774316,
          0.7596573208722741,
          0.7727414330218069,
          0.7597092419522326,
          0.7689858082381447,
          0.7690377293181031,
          0.75404984423676,
          0.7634302526825891,
          0.7633956386292835,
          0.76711664935964,
          0.7578227760470752,
          0.7727587400484597,
          0.7596227068189685,
          0.7597092419522327
         ]
        },
        {
         "mode": "lines",
         "name": "Best Value",
         "type": "scatter",
         "x": [
          0,
          1,
          2,
          3,
          4,
          5,
          6,
          7,
          8,
          9,
          10,
          11,
          12,
          13,
          14,
          15,
          16,
          17,
          18,
          19,
          20,
          21,
          22,
          23,
          24,
          25,
          26,
          27,
          28,
          29,
          30,
          31,
          32,
          33,
          34,
          35,
          36,
          37,
          38,
          39,
          40,
          41,
          42,
          43,
          44,
          45,
          46,
          47,
          48,
          49
         ],
         "y": [
          0.7709068881966079,
          0.7709068881966079,
          0.7709068881966079,
          0.7709068881966079,
          0.7709068881966079,
          0.7709068881966079,
          0.7709068881966079,
          0.7709068881966079,
          0.7709068881966079,
          0.7709068881966079,
          0.7709068881966079,
          0.7709068881966079,
          0.7709068881966079,
          0.7709068881966079,
          0.7709068881966079,
          0.7709068881966079,
          0.7727587400484597,
          0.7727587400484597,
          0.7727587400484597,
          0.7727587400484597,
          0.7727587400484597,
          0.7727587400484597,
          0.776497057805469,
          0.776497057805469,
          0.776497057805469,
          0.776497057805469,
          0.776497057805469,
          0.776497057805469,
          0.776497057805469,
          0.776497057805469,
          0.776497057805469,
          0.776497057805469,
          0.776497057805469,
          0.776497057805469,
          0.776497057805469,
          0.776497057805469,
          0.776497057805469,
          0.776497057805469,
          0.776497057805469,
          0.776497057805469,
          0.776497057805469,
          0.776497057805469,
          0.776497057805469,
          0.776497057805469,
          0.776497057805469,
          0.776497057805469,
          0.776497057805469,
          0.776497057805469,
          0.776497057805469,
          0.776497057805469
         ]
        },
        {
         "marker": {
          "color": "#cccccc"
         },
         "mode": "markers",
         "name": "Infeasible Trial",
         "showlegend": false,
         "type": "scatter",
         "x": [],
         "y": []
        }
       ],
       "layout": {
        "template": {
         "data": {
          "bar": [
           {
            "error_x": {
             "color": "#2a3f5f"
            },
            "error_y": {
             "color": "#2a3f5f"
            },
            "marker": {
             "line": {
              "color": "#E5ECF6",
              "width": 0.5
             },
             "pattern": {
              "fillmode": "overlay",
              "size": 10,
              "solidity": 0.2
             }
            },
            "type": "bar"
           }
          ],
          "barpolar": [
           {
            "marker": {
             "line": {
              "color": "#E5ECF6",
              "width": 0.5
             },
             "pattern": {
              "fillmode": "overlay",
              "size": 10,
              "solidity": 0.2
             }
            },
            "type": "barpolar"
           }
          ],
          "carpet": [
           {
            "aaxis": {
             "endlinecolor": "#2a3f5f",
             "gridcolor": "white",
             "linecolor": "white",
             "minorgridcolor": "white",
             "startlinecolor": "#2a3f5f"
            },
            "baxis": {
             "endlinecolor": "#2a3f5f",
             "gridcolor": "white",
             "linecolor": "white",
             "minorgridcolor": "white",
             "startlinecolor": "#2a3f5f"
            },
            "type": "carpet"
           }
          ],
          "choropleth": [
           {
            "colorbar": {
             "outlinewidth": 0,
             "ticks": ""
            },
            "type": "choropleth"
           }
          ],
          "contour": [
           {
            "colorbar": {
             "outlinewidth": 0,
             "ticks": ""
            },
            "colorscale": [
             [
              0,
              "#0d0887"
             ],
             [
              0.1111111111111111,
              "#46039f"
             ],
             [
              0.2222222222222222,
              "#7201a8"
             ],
             [
              0.3333333333333333,
              "#9c179e"
             ],
             [
              0.4444444444444444,
              "#bd3786"
             ],
             [
              0.5555555555555556,
              "#d8576b"
             ],
             [
              0.6666666666666666,
              "#ed7953"
             ],
             [
              0.7777777777777778,
              "#fb9f3a"
             ],
             [
              0.8888888888888888,
              "#fdca26"
             ],
             [
              1,
              "#f0f921"
             ]
            ],
            "type": "contour"
           }
          ],
          "contourcarpet": [
           {
            "colorbar": {
             "outlinewidth": 0,
             "ticks": ""
            },
            "type": "contourcarpet"
           }
          ],
          "heatmap": [
           {
            "colorbar": {
             "outlinewidth": 0,
             "ticks": ""
            },
            "colorscale": [
             [
              0,
              "#0d0887"
             ],
             [
              0.1111111111111111,
              "#46039f"
             ],
             [
              0.2222222222222222,
              "#7201a8"
             ],
             [
              0.3333333333333333,
              "#9c179e"
             ],
             [
              0.4444444444444444,
              "#bd3786"
             ],
             [
              0.5555555555555556,
              "#d8576b"
             ],
             [
              0.6666666666666666,
              "#ed7953"
             ],
             [
              0.7777777777777778,
              "#fb9f3a"
             ],
             [
              0.8888888888888888,
              "#fdca26"
             ],
             [
              1,
              "#f0f921"
             ]
            ],
            "type": "heatmap"
           }
          ],
          "heatmapgl": [
           {
            "colorbar": {
             "outlinewidth": 0,
             "ticks": ""
            },
            "colorscale": [
             [
              0,
              "#0d0887"
             ],
             [
              0.1111111111111111,
              "#46039f"
             ],
             [
              0.2222222222222222,
              "#7201a8"
             ],
             [
              0.3333333333333333,
              "#9c179e"
             ],
             [
              0.4444444444444444,
              "#bd3786"
             ],
             [
              0.5555555555555556,
              "#d8576b"
             ],
             [
              0.6666666666666666,
              "#ed7953"
             ],
             [
              0.7777777777777778,
              "#fb9f3a"
             ],
             [
              0.8888888888888888,
              "#fdca26"
             ],
             [
              1,
              "#f0f921"
             ]
            ],
            "type": "heatmapgl"
           }
          ],
          "histogram": [
           {
            "marker": {
             "pattern": {
              "fillmode": "overlay",
              "size": 10,
              "solidity": 0.2
             }
            },
            "type": "histogram"
           }
          ],
          "histogram2d": [
           {
            "colorbar": {
             "outlinewidth": 0,
             "ticks": ""
            },
            "colorscale": [
             [
              0,
              "#0d0887"
             ],
             [
              0.1111111111111111,
              "#46039f"
             ],
             [
              0.2222222222222222,
              "#7201a8"
             ],
             [
              0.3333333333333333,
              "#9c179e"
             ],
             [
              0.4444444444444444,
              "#bd3786"
             ],
             [
              0.5555555555555556,
              "#d8576b"
             ],
             [
              0.6666666666666666,
              "#ed7953"
             ],
             [
              0.7777777777777778,
              "#fb9f3a"
             ],
             [
              0.8888888888888888,
              "#fdca26"
             ],
             [
              1,
              "#f0f921"
             ]
            ],
            "type": "histogram2d"
           }
          ],
          "histogram2dcontour": [
           {
            "colorbar": {
             "outlinewidth": 0,
             "ticks": ""
            },
            "colorscale": [
             [
              0,
              "#0d0887"
             ],
             [
              0.1111111111111111,
              "#46039f"
             ],
             [
              0.2222222222222222,
              "#7201a8"
             ],
             [
              0.3333333333333333,
              "#9c179e"
             ],
             [
              0.4444444444444444,
              "#bd3786"
             ],
             [
              0.5555555555555556,
              "#d8576b"
             ],
             [
              0.6666666666666666,
              "#ed7953"
             ],
             [
              0.7777777777777778,
              "#fb9f3a"
             ],
             [
              0.8888888888888888,
              "#fdca26"
             ],
             [
              1,
              "#f0f921"
             ]
            ],
            "type": "histogram2dcontour"
           }
          ],
          "mesh3d": [
           {
            "colorbar": {
             "outlinewidth": 0,
             "ticks": ""
            },
            "type": "mesh3d"
           }
          ],
          "parcoords": [
           {
            "line": {
             "colorbar": {
              "outlinewidth": 0,
              "ticks": ""
             }
            },
            "type": "parcoords"
           }
          ],
          "pie": [
           {
            "automargin": true,
            "type": "pie"
           }
          ],
          "scatter": [
           {
            "fillpattern": {
             "fillmode": "overlay",
             "size": 10,
             "solidity": 0.2
            },
            "type": "scatter"
           }
          ],
          "scatter3d": [
           {
            "line": {
             "colorbar": {
              "outlinewidth": 0,
              "ticks": ""
             }
            },
            "marker": {
             "colorbar": {
              "outlinewidth": 0,
              "ticks": ""
             }
            },
            "type": "scatter3d"
           }
          ],
          "scattercarpet": [
           {
            "marker": {
             "colorbar": {
              "outlinewidth": 0,
              "ticks": ""
             }
            },
            "type": "scattercarpet"
           }
          ],
          "scattergeo": [
           {
            "marker": {
             "colorbar": {
              "outlinewidth": 0,
              "ticks": ""
             }
            },
            "type": "scattergeo"
           }
          ],
          "scattergl": [
           {
            "marker": {
             "colorbar": {
              "outlinewidth": 0,
              "ticks": ""
             }
            },
            "type": "scattergl"
           }
          ],
          "scattermapbox": [
           {
            "marker": {
             "colorbar": {
              "outlinewidth": 0,
              "ticks": ""
             }
            },
            "type": "scattermapbox"
           }
          ],
          "scatterpolar": [
           {
            "marker": {
             "colorbar": {
              "outlinewidth": 0,
              "ticks": ""
             }
            },
            "type": "scatterpolar"
           }
          ],
          "scatterpolargl": [
           {
            "marker": {
             "colorbar": {
              "outlinewidth": 0,
              "ticks": ""
             }
            },
            "type": "scatterpolargl"
           }
          ],
          "scatterternary": [
           {
            "marker": {
             "colorbar": {
              "outlinewidth": 0,
              "ticks": ""
             }
            },
            "type": "scatterternary"
           }
          ],
          "surface": [
           {
            "colorbar": {
             "outlinewidth": 0,
             "ticks": ""
            },
            "colorscale": [
             [
              0,
              "#0d0887"
             ],
             [
              0.1111111111111111,
              "#46039f"
             ],
             [
              0.2222222222222222,
              "#7201a8"
             ],
             [
              0.3333333333333333,
              "#9c179e"
             ],
             [
              0.4444444444444444,
              "#bd3786"
             ],
             [
              0.5555555555555556,
              "#d8576b"
             ],
             [
              0.6666666666666666,
              "#ed7953"
             ],
             [
              0.7777777777777778,
              "#fb9f3a"
             ],
             [
              0.8888888888888888,
              "#fdca26"
             ],
             [
              1,
              "#f0f921"
             ]
            ],
            "type": "surface"
           }
          ],
          "table": [
           {
            "cells": {
             "fill": {
              "color": "#EBF0F8"
             },
             "line": {
              "color": "white"
             }
            },
            "header": {
             "fill": {
              "color": "#C8D4E3"
             },
             "line": {
              "color": "white"
             }
            },
            "type": "table"
           }
          ]
         },
         "layout": {
          "annotationdefaults": {
           "arrowcolor": "#2a3f5f",
           "arrowhead": 0,
           "arrowwidth": 1
          },
          "autotypenumbers": "strict",
          "coloraxis": {
           "colorbar": {
            "outlinewidth": 0,
            "ticks": ""
           }
          },
          "colorscale": {
           "diverging": [
            [
             0,
             "#8e0152"
            ],
            [
             0.1,
             "#c51b7d"
            ],
            [
             0.2,
             "#de77ae"
            ],
            [
             0.3,
             "#f1b6da"
            ],
            [
             0.4,
             "#fde0ef"
            ],
            [
             0.5,
             "#f7f7f7"
            ],
            [
             0.6,
             "#e6f5d0"
            ],
            [
             0.7,
             "#b8e186"
            ],
            [
             0.8,
             "#7fbc41"
            ],
            [
             0.9,
             "#4d9221"
            ],
            [
             1,
             "#276419"
            ]
           ],
           "sequential": [
            [
             0,
             "#0d0887"
            ],
            [
             0.1111111111111111,
             "#46039f"
            ],
            [
             0.2222222222222222,
             "#7201a8"
            ],
            [
             0.3333333333333333,
             "#9c179e"
            ],
            [
             0.4444444444444444,
             "#bd3786"
            ],
            [
             0.5555555555555556,
             "#d8576b"
            ],
            [
             0.6666666666666666,
             "#ed7953"
            ],
            [
             0.7777777777777778,
             "#fb9f3a"
            ],
            [
             0.8888888888888888,
             "#fdca26"
            ],
            [
             1,
             "#f0f921"
            ]
           ],
           "sequentialminus": [
            [
             0,
             "#0d0887"
            ],
            [
             0.1111111111111111,
             "#46039f"
            ],
            [
             0.2222222222222222,
             "#7201a8"
            ],
            [
             0.3333333333333333,
             "#9c179e"
            ],
            [
             0.4444444444444444,
             "#bd3786"
            ],
            [
             0.5555555555555556,
             "#d8576b"
            ],
            [
             0.6666666666666666,
             "#ed7953"
            ],
            [
             0.7777777777777778,
             "#fb9f3a"
            ],
            [
             0.8888888888888888,
             "#fdca26"
            ],
            [
             1,
             "#f0f921"
            ]
           ]
          },
          "colorway": [
           "#636efa",
           "#EF553B",
           "#00cc96",
           "#ab63fa",
           "#FFA15A",
           "#19d3f3",
           "#FF6692",
           "#B6E880",
           "#FF97FF",
           "#FECB52"
          ],
          "font": {
           "color": "#2a3f5f"
          },
          "geo": {
           "bgcolor": "white",
           "lakecolor": "white",
           "landcolor": "#E5ECF6",
           "showlakes": true,
           "showland": true,
           "subunitcolor": "white"
          },
          "hoverlabel": {
           "align": "left"
          },
          "hovermode": "closest",
          "mapbox": {
           "style": "light"
          },
          "paper_bgcolor": "white",
          "plot_bgcolor": "#E5ECF6",
          "polar": {
           "angularaxis": {
            "gridcolor": "white",
            "linecolor": "white",
            "ticks": ""
           },
           "bgcolor": "#E5ECF6",
           "radialaxis": {
            "gridcolor": "white",
            "linecolor": "white",
            "ticks": ""
           }
          },
          "scene": {
           "xaxis": {
            "backgroundcolor": "#E5ECF6",
            "gridcolor": "white",
            "gridwidth": 2,
            "linecolor": "white",
            "showbackground": true,
            "ticks": "",
            "zerolinecolor": "white"
           },
           "yaxis": {
            "backgroundcolor": "#E5ECF6",
            "gridcolor": "white",
            "gridwidth": 2,
            "linecolor": "white",
            "showbackground": true,
            "ticks": "",
            "zerolinecolor": "white"
           },
           "zaxis": {
            "backgroundcolor": "#E5ECF6",
            "gridcolor": "white",
            "gridwidth": 2,
            "linecolor": "white",
            "showbackground": true,
            "ticks": "",
            "zerolinecolor": "white"
           }
          },
          "shapedefaults": {
           "line": {
            "color": "#2a3f5f"
           }
          },
          "ternary": {
           "aaxis": {
            "gridcolor": "white",
            "linecolor": "white",
            "ticks": ""
           },
           "baxis": {
            "gridcolor": "white",
            "linecolor": "white",
            "ticks": ""
           },
           "bgcolor": "#E5ECF6",
           "caxis": {
            "gridcolor": "white",
            "linecolor": "white",
            "ticks": ""
           }
          },
          "title": {
           "x": 0.05
          },
          "xaxis": {
           "automargin": true,
           "gridcolor": "white",
           "linecolor": "white",
           "ticks": "",
           "title": {
            "standoff": 15
           },
           "zerolinecolor": "white",
           "zerolinewidth": 2
          },
          "yaxis": {
           "automargin": true,
           "gridcolor": "white",
           "linecolor": "white",
           "ticks": "",
           "title": {
            "standoff": 15
           },
           "zerolinecolor": "white",
           "zerolinewidth": 2
          }
         }
        },
        "title": {
         "text": "Optimization History Plot"
        },
        "xaxis": {
         "title": {
          "text": "Trial"
         }
        },
        "yaxis": {
         "title": {
          "text": "Objective Value"
         }
        }
       }
      }
     },
     "metadata": {},
     "output_type": "display_data"
    }
   ],
   "source": [
    "# 1. Optimization History\n",
    "plot_optimization_history(study)"
   ]
  },
  {
   "cell_type": "code",
   "execution_count": 34,
   "id": "5eded8dd",
   "metadata": {},
   "outputs": [
    {
     "data": {
      "application/vnd.plotly.v1+json": {
       "config": {
        "plotlyServerURL": "https://plot.ly"
       },
       "data": [
        {
         "dimensions": [
          {
           "label": "Objective Value",
           "range": [
            0.750380754586362,
            0.776497057805469
           ],
           "values": [
            0.7709068881966079,
            0.7559709241952233,
            0.7652647975077882,
            0.7615264797507789,
            0.750380754586362,
            0.7504153686396677,
            0.7596919349255798,
            0.757822776047075,
            0.7541017653167186,
            0.7596919349255797,
            0.7521806853582554,
            0.7652994115610937,
            0.7597092419522327,
            0.7541017653167186,
            0.7690377293181031,
            0.7633783316026307,
            0.7727587400484597,
            0.7596746278989269,
            0.7614918656974732,
            0.7522326064382139,
            0.7522672204915196,
            0.769055036344756,
            0.776497057805469,
            0.7615264797507788,
            0.7596919349255797,
            0.7652474904811353,
            0.776497057805469,
            0.765282104534441,
            0.7522672204915196,
            0.7708549671166494,
            0.7596919349255797,
            0.7634129456559362,
            0.759674627898927,
            0.776497057805469,
            0.776497057805469,
            0.7633783316026307,
            0.7615437867774316,
            0.7596573208722741,
            0.7727414330218069,
            0.7597092419522326,
            0.7689858082381447,
            0.7690377293181031,
            0.75404984423676,
            0.7634302526825891,
            0.7633956386292835,
            0.76711664935964,
            0.7578227760470752,
            0.7727587400484597,
            0.7596227068189685,
            0.7597092419522327
           ]
          },
          {
           "label": "max_depth",
           "range": [
            3,
            20
           ],
           "values": [
            9,
            7,
            17,
            11,
            12,
            3,
            20,
            7,
            5,
            20,
            12,
            16,
            15,
            15,
            9,
            10,
            9,
            8,
            13,
            5,
            5,
            9,
            9,
            10,
            7,
            13,
            9,
            6,
            3,
            10,
            8,
            8,
            11,
            9,
            9,
            11,
            6,
            13,
            9,
            7,
            10,
            9,
            12,
            8,
            6,
            10,
            12,
            9,
            11,
            7
           ]
          },
          {
           "label": "n_estimators",
           "range": [
            53,
            197
           ],
           "values": [
            174,
            123,
            160,
            175,
            85,
            171,
            83,
            140,
            149,
            63,
            195,
            197,
            195,
            121,
            183,
            178,
            140,
            107,
            139,
            157,
            104,
            177,
            165,
            137,
            160,
            148,
            165,
            161,
            131,
            108,
            150,
            170,
            186,
            165,
            165,
            168,
            188,
            164,
            153,
            127,
            119,
            172,
            145,
            155,
            177,
            163,
            53,
            145,
            132,
            182
           ]
          }
         ],
         "labelangle": 30,
         "labelside": "bottom",
         "line": {
          "color": [
           0.7709068881966079,
           0.7559709241952233,
           0.7652647975077882,
           0.7615264797507789,
           0.750380754586362,
           0.7504153686396677,
           0.7596919349255798,
           0.757822776047075,
           0.7541017653167186,
           0.7596919349255797,
           0.7521806853582554,
           0.7652994115610937,
           0.7597092419522327,
           0.7541017653167186,
           0.7690377293181031,
           0.7633783316026307,
           0.7727587400484597,
           0.7596746278989269,
           0.7614918656974732,
           0.7522326064382139,
           0.7522672204915196,
           0.769055036344756,
           0.776497057805469,
           0.7615264797507788,
           0.7596919349255797,
           0.7652474904811353,
           0.776497057805469,
           0.765282104534441,
           0.7522672204915196,
           0.7708549671166494,
           0.7596919349255797,
           0.7634129456559362,
           0.759674627898927,
           0.776497057805469,
           0.776497057805469,
           0.7633783316026307,
           0.7615437867774316,
           0.7596573208722741,
           0.7727414330218069,
           0.7597092419522326,
           0.7689858082381447,
           0.7690377293181031,
           0.75404984423676,
           0.7634302526825891,
           0.7633956386292835,
           0.76711664935964,
           0.7578227760470752,
           0.7727587400484597,
           0.7596227068189685,
           0.7597092419522327
          ],
          "colorbar": {
           "title": {
            "text": "Objective Value"
           }
          },
          "colorscale": [
           [
            0,
            "rgb(247,251,255)"
           ],
           [
            0.125,
            "rgb(222,235,247)"
           ],
           [
            0.25,
            "rgb(198,219,239)"
           ],
           [
            0.375,
            "rgb(158,202,225)"
           ],
           [
            0.5,
            "rgb(107,174,214)"
           ],
           [
            0.625,
            "rgb(66,146,198)"
           ],
           [
            0.75,
            "rgb(33,113,181)"
           ],
           [
            0.875,
            "rgb(8,81,156)"
           ],
           [
            1,
            "rgb(8,48,107)"
           ]
          ],
          "reversescale": false,
          "showscale": true
         },
         "type": "parcoords"
        }
       ],
       "layout": {
        "template": {
         "data": {
          "bar": [
           {
            "error_x": {
             "color": "#2a3f5f"
            },
            "error_y": {
             "color": "#2a3f5f"
            },
            "marker": {
             "line": {
              "color": "#E5ECF6",
              "width": 0.5
             },
             "pattern": {
              "fillmode": "overlay",
              "size": 10,
              "solidity": 0.2
             }
            },
            "type": "bar"
           }
          ],
          "barpolar": [
           {
            "marker": {
             "line": {
              "color": "#E5ECF6",
              "width": 0.5
             },
             "pattern": {
              "fillmode": "overlay",
              "size": 10,
              "solidity": 0.2
             }
            },
            "type": "barpolar"
           }
          ],
          "carpet": [
           {
            "aaxis": {
             "endlinecolor": "#2a3f5f",
             "gridcolor": "white",
             "linecolor": "white",
             "minorgridcolor": "white",
             "startlinecolor": "#2a3f5f"
            },
            "baxis": {
             "endlinecolor": "#2a3f5f",
             "gridcolor": "white",
             "linecolor": "white",
             "minorgridcolor": "white",
             "startlinecolor": "#2a3f5f"
            },
            "type": "carpet"
           }
          ],
          "choropleth": [
           {
            "colorbar": {
             "outlinewidth": 0,
             "ticks": ""
            },
            "type": "choropleth"
           }
          ],
          "contour": [
           {
            "colorbar": {
             "outlinewidth": 0,
             "ticks": ""
            },
            "colorscale": [
             [
              0,
              "#0d0887"
             ],
             [
              0.1111111111111111,
              "#46039f"
             ],
             [
              0.2222222222222222,
              "#7201a8"
             ],
             [
              0.3333333333333333,
              "#9c179e"
             ],
             [
              0.4444444444444444,
              "#bd3786"
             ],
             [
              0.5555555555555556,
              "#d8576b"
             ],
             [
              0.6666666666666666,
              "#ed7953"
             ],
             [
              0.7777777777777778,
              "#fb9f3a"
             ],
             [
              0.8888888888888888,
              "#fdca26"
             ],
             [
              1,
              "#f0f921"
             ]
            ],
            "type": "contour"
           }
          ],
          "contourcarpet": [
           {
            "colorbar": {
             "outlinewidth": 0,
             "ticks": ""
            },
            "type": "contourcarpet"
           }
          ],
          "heatmap": [
           {
            "colorbar": {
             "outlinewidth": 0,
             "ticks": ""
            },
            "colorscale": [
             [
              0,
              "#0d0887"
             ],
             [
              0.1111111111111111,
              "#46039f"
             ],
             [
              0.2222222222222222,
              "#7201a8"
             ],
             [
              0.3333333333333333,
              "#9c179e"
             ],
             [
              0.4444444444444444,
              "#bd3786"
             ],
             [
              0.5555555555555556,
              "#d8576b"
             ],
             [
              0.6666666666666666,
              "#ed7953"
             ],
             [
              0.7777777777777778,
              "#fb9f3a"
             ],
             [
              0.8888888888888888,
              "#fdca26"
             ],
             [
              1,
              "#f0f921"
             ]
            ],
            "type": "heatmap"
           }
          ],
          "heatmapgl": [
           {
            "colorbar": {
             "outlinewidth": 0,
             "ticks": ""
            },
            "colorscale": [
             [
              0,
              "#0d0887"
             ],
             [
              0.1111111111111111,
              "#46039f"
             ],
             [
              0.2222222222222222,
              "#7201a8"
             ],
             [
              0.3333333333333333,
              "#9c179e"
             ],
             [
              0.4444444444444444,
              "#bd3786"
             ],
             [
              0.5555555555555556,
              "#d8576b"
             ],
             [
              0.6666666666666666,
              "#ed7953"
             ],
             [
              0.7777777777777778,
              "#fb9f3a"
             ],
             [
              0.8888888888888888,
              "#fdca26"
             ],
             [
              1,
              "#f0f921"
             ]
            ],
            "type": "heatmapgl"
           }
          ],
          "histogram": [
           {
            "marker": {
             "pattern": {
              "fillmode": "overlay",
              "size": 10,
              "solidity": 0.2
             }
            },
            "type": "histogram"
           }
          ],
          "histogram2d": [
           {
            "colorbar": {
             "outlinewidth": 0,
             "ticks": ""
            },
            "colorscale": [
             [
              0,
              "#0d0887"
             ],
             [
              0.1111111111111111,
              "#46039f"
             ],
             [
              0.2222222222222222,
              "#7201a8"
             ],
             [
              0.3333333333333333,
              "#9c179e"
             ],
             [
              0.4444444444444444,
              "#bd3786"
             ],
             [
              0.5555555555555556,
              "#d8576b"
             ],
             [
              0.6666666666666666,
              "#ed7953"
             ],
             [
              0.7777777777777778,
              "#fb9f3a"
             ],
             [
              0.8888888888888888,
              "#fdca26"
             ],
             [
              1,
              "#f0f921"
             ]
            ],
            "type": "histogram2d"
           }
          ],
          "histogram2dcontour": [
           {
            "colorbar": {
             "outlinewidth": 0,
             "ticks": ""
            },
            "colorscale": [
             [
              0,
              "#0d0887"
             ],
             [
              0.1111111111111111,
              "#46039f"
             ],
             [
              0.2222222222222222,
              "#7201a8"
             ],
             [
              0.3333333333333333,
              "#9c179e"
             ],
             [
              0.4444444444444444,
              "#bd3786"
             ],
             [
              0.5555555555555556,
              "#d8576b"
             ],
             [
              0.6666666666666666,
              "#ed7953"
             ],
             [
              0.7777777777777778,
              "#fb9f3a"
             ],
             [
              0.8888888888888888,
              "#fdca26"
             ],
             [
              1,
              "#f0f921"
             ]
            ],
            "type": "histogram2dcontour"
           }
          ],
          "mesh3d": [
           {
            "colorbar": {
             "outlinewidth": 0,
             "ticks": ""
            },
            "type": "mesh3d"
           }
          ],
          "parcoords": [
           {
            "line": {
             "colorbar": {
              "outlinewidth": 0,
              "ticks": ""
             }
            },
            "type": "parcoords"
           }
          ],
          "pie": [
           {
            "automargin": true,
            "type": "pie"
           }
          ],
          "scatter": [
           {
            "fillpattern": {
             "fillmode": "overlay",
             "size": 10,
             "solidity": 0.2
            },
            "type": "scatter"
           }
          ],
          "scatter3d": [
           {
            "line": {
             "colorbar": {
              "outlinewidth": 0,
              "ticks": ""
             }
            },
            "marker": {
             "colorbar": {
              "outlinewidth": 0,
              "ticks": ""
             }
            },
            "type": "scatter3d"
           }
          ],
          "scattercarpet": [
           {
            "marker": {
             "colorbar": {
              "outlinewidth": 0,
              "ticks": ""
             }
            },
            "type": "scattercarpet"
           }
          ],
          "scattergeo": [
           {
            "marker": {
             "colorbar": {
              "outlinewidth": 0,
              "ticks": ""
             }
            },
            "type": "scattergeo"
           }
          ],
          "scattergl": [
           {
            "marker": {
             "colorbar": {
              "outlinewidth": 0,
              "ticks": ""
             }
            },
            "type": "scattergl"
           }
          ],
          "scattermapbox": [
           {
            "marker": {
             "colorbar": {
              "outlinewidth": 0,
              "ticks": ""
             }
            },
            "type": "scattermapbox"
           }
          ],
          "scatterpolar": [
           {
            "marker": {
             "colorbar": {
              "outlinewidth": 0,
              "ticks": ""
             }
            },
            "type": "scatterpolar"
           }
          ],
          "scatterpolargl": [
           {
            "marker": {
             "colorbar": {
              "outlinewidth": 0,
              "ticks": ""
             }
            },
            "type": "scatterpolargl"
           }
          ],
          "scatterternary": [
           {
            "marker": {
             "colorbar": {
              "outlinewidth": 0,
              "ticks": ""
             }
            },
            "type": "scatterternary"
           }
          ],
          "surface": [
           {
            "colorbar": {
             "outlinewidth": 0,
             "ticks": ""
            },
            "colorscale": [
             [
              0,
              "#0d0887"
             ],
             [
              0.1111111111111111,
              "#46039f"
             ],
             [
              0.2222222222222222,
              "#7201a8"
             ],
             [
              0.3333333333333333,
              "#9c179e"
             ],
             [
              0.4444444444444444,
              "#bd3786"
             ],
             [
              0.5555555555555556,
              "#d8576b"
             ],
             [
              0.6666666666666666,
              "#ed7953"
             ],
             [
              0.7777777777777778,
              "#fb9f3a"
             ],
             [
              0.8888888888888888,
              "#fdca26"
             ],
             [
              1,
              "#f0f921"
             ]
            ],
            "type": "surface"
           }
          ],
          "table": [
           {
            "cells": {
             "fill": {
              "color": "#EBF0F8"
             },
             "line": {
              "color": "white"
             }
            },
            "header": {
             "fill": {
              "color": "#C8D4E3"
             },
             "line": {
              "color": "white"
             }
            },
            "type": "table"
           }
          ]
         },
         "layout": {
          "annotationdefaults": {
           "arrowcolor": "#2a3f5f",
           "arrowhead": 0,
           "arrowwidth": 1
          },
          "autotypenumbers": "strict",
          "coloraxis": {
           "colorbar": {
            "outlinewidth": 0,
            "ticks": ""
           }
          },
          "colorscale": {
           "diverging": [
            [
             0,
             "#8e0152"
            ],
            [
             0.1,
             "#c51b7d"
            ],
            [
             0.2,
             "#de77ae"
            ],
            [
             0.3,
             "#f1b6da"
            ],
            [
             0.4,
             "#fde0ef"
            ],
            [
             0.5,
             "#f7f7f7"
            ],
            [
             0.6,
             "#e6f5d0"
            ],
            [
             0.7,
             "#b8e186"
            ],
            [
             0.8,
             "#7fbc41"
            ],
            [
             0.9,
             "#4d9221"
            ],
            [
             1,
             "#276419"
            ]
           ],
           "sequential": [
            [
             0,
             "#0d0887"
            ],
            [
             0.1111111111111111,
             "#46039f"
            ],
            [
             0.2222222222222222,
             "#7201a8"
            ],
            [
             0.3333333333333333,
             "#9c179e"
            ],
            [
             0.4444444444444444,
             "#bd3786"
            ],
            [
             0.5555555555555556,
             "#d8576b"
            ],
            [
             0.6666666666666666,
             "#ed7953"
            ],
            [
             0.7777777777777778,
             "#fb9f3a"
            ],
            [
             0.8888888888888888,
             "#fdca26"
            ],
            [
             1,
             "#f0f921"
            ]
           ],
           "sequentialminus": [
            [
             0,
             "#0d0887"
            ],
            [
             0.1111111111111111,
             "#46039f"
            ],
            [
             0.2222222222222222,
             "#7201a8"
            ],
            [
             0.3333333333333333,
             "#9c179e"
            ],
            [
             0.4444444444444444,
             "#bd3786"
            ],
            [
             0.5555555555555556,
             "#d8576b"
            ],
            [
             0.6666666666666666,
             "#ed7953"
            ],
            [
             0.7777777777777778,
             "#fb9f3a"
            ],
            [
             0.8888888888888888,
             "#fdca26"
            ],
            [
             1,
             "#f0f921"
            ]
           ]
          },
          "colorway": [
           "#636efa",
           "#EF553B",
           "#00cc96",
           "#ab63fa",
           "#FFA15A",
           "#19d3f3",
           "#FF6692",
           "#B6E880",
           "#FF97FF",
           "#FECB52"
          ],
          "font": {
           "color": "#2a3f5f"
          },
          "geo": {
           "bgcolor": "white",
           "lakecolor": "white",
           "landcolor": "#E5ECF6",
           "showlakes": true,
           "showland": true,
           "subunitcolor": "white"
          },
          "hoverlabel": {
           "align": "left"
          },
          "hovermode": "closest",
          "mapbox": {
           "style": "light"
          },
          "paper_bgcolor": "white",
          "plot_bgcolor": "#E5ECF6",
          "polar": {
           "angularaxis": {
            "gridcolor": "white",
            "linecolor": "white",
            "ticks": ""
           },
           "bgcolor": "#E5ECF6",
           "radialaxis": {
            "gridcolor": "white",
            "linecolor": "white",
            "ticks": ""
           }
          },
          "scene": {
           "xaxis": {
            "backgroundcolor": "#E5ECF6",
            "gridcolor": "white",
            "gridwidth": 2,
            "linecolor": "white",
            "showbackground": true,
            "ticks": "",
            "zerolinecolor": "white"
           },
           "yaxis": {
            "backgroundcolor": "#E5ECF6",
            "gridcolor": "white",
            "gridwidth": 2,
            "linecolor": "white",
            "showbackground": true,
            "ticks": "",
            "zerolinecolor": "white"
           },
           "zaxis": {
            "backgroundcolor": "#E5ECF6",
            "gridcolor": "white",
            "gridwidth": 2,
            "linecolor": "white",
            "showbackground": true,
            "ticks": "",
            "zerolinecolor": "white"
           }
          },
          "shapedefaults": {
           "line": {
            "color": "#2a3f5f"
           }
          },
          "ternary": {
           "aaxis": {
            "gridcolor": "white",
            "linecolor": "white",
            "ticks": ""
           },
           "baxis": {
            "gridcolor": "white",
            "linecolor": "white",
            "ticks": ""
           },
           "bgcolor": "#E5ECF6",
           "caxis": {
            "gridcolor": "white",
            "linecolor": "white",
            "ticks": ""
           }
          },
          "title": {
           "x": 0.05
          },
          "xaxis": {
           "automargin": true,
           "gridcolor": "white",
           "linecolor": "white",
           "ticks": "",
           "title": {
            "standoff": 15
           },
           "zerolinecolor": "white",
           "zerolinewidth": 2
          },
          "yaxis": {
           "automargin": true,
           "gridcolor": "white",
           "linecolor": "white",
           "ticks": "",
           "title": {
            "standoff": 15
           },
           "zerolinecolor": "white",
           "zerolinewidth": 2
          }
         }
        },
        "title": {
         "text": "Parallel Coordinate Plot"
        }
       }
      }
     },
     "metadata": {},
     "output_type": "display_data"
    }
   ],
   "source": [
    "# 2. Parallel Coordinates Plot\n",
    "plot_parallel_coordinate(study)\n",
    "\n",
    "# from the below graph we can see most trials are conducted in the range (5,15) for max_depth and (100,160) for n_estimators"
   ]
  },
  {
   "cell_type": "code",
   "execution_count": null,
   "id": "c2f50042",
   "metadata": {},
   "outputs": [
    {
     "data": {
      "application/vnd.plotly.v1+json": {
       "config": {
        "plotlyServerURL": "https://plot.ly"
       },
       "data": [
        {
         "marker": {
          "color": [
           0,
           1,
           2,
           3,
           4,
           5,
           6,
           7,
           8,
           9,
           10,
           11,
           12,
           13,
           14,
           15,
           16,
           17,
           18,
           19,
           20,
           21,
           22,
           23,
           24,
           25,
           26,
           27,
           28,
           29,
           30,
           31,
           32,
           33,
           34,
           35,
           36,
           37,
           38,
           39,
           40,
           41,
           42,
           43,
           44,
           45,
           46,
           47,
           48,
           49
          ],
          "colorbar": {
           "title": {
            "text": "Trial"
           },
           "x": 1,
           "xpad": 40
          },
          "colorscale": [
           [
            0,
            "rgb(247,251,255)"
           ],
           [
            0.125,
            "rgb(222,235,247)"
           ],
           [
            0.25,
            "rgb(198,219,239)"
           ],
           [
            0.375,
            "rgb(158,202,225)"
           ],
           [
            0.5,
            "rgb(107,174,214)"
           ],
           [
            0.625,
            "rgb(66,146,198)"
           ],
           [
            0.75,
            "rgb(33,113,181)"
           ],
           [
            0.875,
            "rgb(8,81,156)"
           ],
           [
            1,
            "rgb(8,48,107)"
           ]
          ],
          "line": {
           "color": "Grey",
           "width": 0.5
          },
          "showscale": true
         },
         "mode": "markers",
         "name": "Feasible Trial",
         "showlegend": false,
         "type": "scatter",
         "x": [
          9,
          7,
          17,
          11,
          12,
          3,
          20,
          7,
          5,
          20,
          12,
          16,
          15,
          15,
          9,
          10,
          9,
          8,
          13,
          5,
          5,
          9,
          9,
          10,
          7,
          13,
          9,
          6,
          3,
          10,
          8,
          8,
          11,
          9,
          9,
          11,
          6,
          13,
          9,
          7,
          10,
          9,
          12,
          8,
          6,
          10,
          12,
          9,
          11,
          7
         ],
         "xaxis": "x",
         "y": [
          0.7709068881966079,
          0.7559709241952233,
          0.7652647975077882,
          0.7615264797507789,
          0.750380754586362,
          0.7504153686396677,
          0.7596919349255798,
          0.757822776047075,
          0.7541017653167186,
          0.7596919349255797,
          0.7521806853582554,
          0.7652994115610937,
          0.7597092419522327,
          0.7541017653167186,
          0.7690377293181031,
          0.7633783316026307,
          0.7727587400484597,
          0.7596746278989269,
          0.7614918656974732,
          0.7522326064382139,
          0.7522672204915196,
          0.769055036344756,
          0.776497057805469,
          0.7615264797507788,
          0.7596919349255797,
          0.7652474904811353,
          0.776497057805469,
          0.765282104534441,
          0.7522672204915196,
          0.7708549671166494,
          0.7596919349255797,
          0.7634129456559362,
          0.759674627898927,
          0.776497057805469,
          0.776497057805469,
          0.7633783316026307,
          0.7615437867774316,
          0.7596573208722741,
          0.7727414330218069,
          0.7597092419522326,
          0.7689858082381447,
          0.7690377293181031,
          0.75404984423676,
          0.7634302526825891,
          0.7633956386292835,
          0.76711664935964,
          0.7578227760470752,
          0.7727587400484597,
          0.7596227068189685,
          0.7597092419522327
         ],
         "yaxis": "y"
        },
        {
         "marker": {
          "color": [
           0,
           1,
           2,
           3,
           4,
           5,
           6,
           7,
           8,
           9,
           10,
           11,
           12,
           13,
           14,
           15,
           16,
           17,
           18,
           19,
           20,
           21,
           22,
           23,
           24,
           25,
           26,
           27,
           28,
           29,
           30,
           31,
           32,
           33,
           34,
           35,
           36,
           37,
           38,
           39,
           40,
           41,
           42,
           43,
           44,
           45,
           46,
           47,
           48,
           49
          ],
          "colorbar": {
           "title": {
            "text": "Trial"
           },
           "x": 1,
           "xpad": 40
          },
          "colorscale": [
           [
            0,
            "rgb(247,251,255)"
           ],
           [
            0.125,
            "rgb(222,235,247)"
           ],
           [
            0.25,
            "rgb(198,219,239)"
           ],
           [
            0.375,
            "rgb(158,202,225)"
           ],
           [
            0.5,
            "rgb(107,174,214)"
           ],
           [
            0.625,
            "rgb(66,146,198)"
           ],
           [
            0.75,
            "rgb(33,113,181)"
           ],
           [
            0.875,
            "rgb(8,81,156)"
           ],
           [
            1,
            "rgb(8,48,107)"
           ]
          ],
          "line": {
           "color": "Grey",
           "width": 0.5
          },
          "showscale": false
         },
         "mode": "markers",
         "name": "Feasible Trial",
         "showlegend": false,
         "type": "scatter",
         "x": [
          174,
          123,
          160,
          175,
          85,
          171,
          83,
          140,
          149,
          63,
          195,
          197,
          195,
          121,
          183,
          178,
          140,
          107,
          139,
          157,
          104,
          177,
          165,
          137,
          160,
          148,
          165,
          161,
          131,
          108,
          150,
          170,
          186,
          165,
          165,
          168,
          188,
          164,
          153,
          127,
          119,
          172,
          145,
          155,
          177,
          163,
          53,
          145,
          132,
          182
         ],
         "xaxis": "x2",
         "y": [
          0.7709068881966079,
          0.7559709241952233,
          0.7652647975077882,
          0.7615264797507789,
          0.750380754586362,
          0.7504153686396677,
          0.7596919349255798,
          0.757822776047075,
          0.7541017653167186,
          0.7596919349255797,
          0.7521806853582554,
          0.7652994115610937,
          0.7597092419522327,
          0.7541017653167186,
          0.7690377293181031,
          0.7633783316026307,
          0.7727587400484597,
          0.7596746278989269,
          0.7614918656974732,
          0.7522326064382139,
          0.7522672204915196,
          0.769055036344756,
          0.776497057805469,
          0.7615264797507788,
          0.7596919349255797,
          0.7652474904811353,
          0.776497057805469,
          0.765282104534441,
          0.7522672204915196,
          0.7708549671166494,
          0.7596919349255797,
          0.7634129456559362,
          0.759674627898927,
          0.776497057805469,
          0.776497057805469,
          0.7633783316026307,
          0.7615437867774316,
          0.7596573208722741,
          0.7727414330218069,
          0.7597092419522326,
          0.7689858082381447,
          0.7690377293181031,
          0.75404984423676,
          0.7634302526825891,
          0.7633956386292835,
          0.76711664935964,
          0.7578227760470752,
          0.7727587400484597,
          0.7596227068189685,
          0.7597092419522327
         ],
         "yaxis": "y2"
        }
       ],
       "layout": {
        "template": {
         "data": {
          "bar": [
           {
            "error_x": {
             "color": "#2a3f5f"
            },
            "error_y": {
             "color": "#2a3f5f"
            },
            "marker": {
             "line": {
              "color": "#E5ECF6",
              "width": 0.5
             },
             "pattern": {
              "fillmode": "overlay",
              "size": 10,
              "solidity": 0.2
             }
            },
            "type": "bar"
           }
          ],
          "barpolar": [
           {
            "marker": {
             "line": {
              "color": "#E5ECF6",
              "width": 0.5
             },
             "pattern": {
              "fillmode": "overlay",
              "size": 10,
              "solidity": 0.2
             }
            },
            "type": "barpolar"
           }
          ],
          "carpet": [
           {
            "aaxis": {
             "endlinecolor": "#2a3f5f",
             "gridcolor": "white",
             "linecolor": "white",
             "minorgridcolor": "white",
             "startlinecolor": "#2a3f5f"
            },
            "baxis": {
             "endlinecolor": "#2a3f5f",
             "gridcolor": "white",
             "linecolor": "white",
             "minorgridcolor": "white",
             "startlinecolor": "#2a3f5f"
            },
            "type": "carpet"
           }
          ],
          "choropleth": [
           {
            "colorbar": {
             "outlinewidth": 0,
             "ticks": ""
            },
            "type": "choropleth"
           }
          ],
          "contour": [
           {
            "colorbar": {
             "outlinewidth": 0,
             "ticks": ""
            },
            "colorscale": [
             [
              0,
              "#0d0887"
             ],
             [
              0.1111111111111111,
              "#46039f"
             ],
             [
              0.2222222222222222,
              "#7201a8"
             ],
             [
              0.3333333333333333,
              "#9c179e"
             ],
             [
              0.4444444444444444,
              "#bd3786"
             ],
             [
              0.5555555555555556,
              "#d8576b"
             ],
             [
              0.6666666666666666,
              "#ed7953"
             ],
             [
              0.7777777777777778,
              "#fb9f3a"
             ],
             [
              0.8888888888888888,
              "#fdca26"
             ],
             [
              1,
              "#f0f921"
             ]
            ],
            "type": "contour"
           }
          ],
          "contourcarpet": [
           {
            "colorbar": {
             "outlinewidth": 0,
             "ticks": ""
            },
            "type": "contourcarpet"
           }
          ],
          "heatmap": [
           {
            "colorbar": {
             "outlinewidth": 0,
             "ticks": ""
            },
            "colorscale": [
             [
              0,
              "#0d0887"
             ],
             [
              0.1111111111111111,
              "#46039f"
             ],
             [
              0.2222222222222222,
              "#7201a8"
             ],
             [
              0.3333333333333333,
              "#9c179e"
             ],
             [
              0.4444444444444444,
              "#bd3786"
             ],
             [
              0.5555555555555556,
              "#d8576b"
             ],
             [
              0.6666666666666666,
              "#ed7953"
             ],
             [
              0.7777777777777778,
              "#fb9f3a"
             ],
             [
              0.8888888888888888,
              "#fdca26"
             ],
             [
              1,
              "#f0f921"
             ]
            ],
            "type": "heatmap"
           }
          ],
          "heatmapgl": [
           {
            "colorbar": {
             "outlinewidth": 0,
             "ticks": ""
            },
            "colorscale": [
             [
              0,
              "#0d0887"
             ],
             [
              0.1111111111111111,
              "#46039f"
             ],
             [
              0.2222222222222222,
              "#7201a8"
             ],
             [
              0.3333333333333333,
              "#9c179e"
             ],
             [
              0.4444444444444444,
              "#bd3786"
             ],
             [
              0.5555555555555556,
              "#d8576b"
             ],
             [
              0.6666666666666666,
              "#ed7953"
             ],
             [
              0.7777777777777778,
              "#fb9f3a"
             ],
             [
              0.8888888888888888,
              "#fdca26"
             ],
             [
              1,
              "#f0f921"
             ]
            ],
            "type": "heatmapgl"
           }
          ],
          "histogram": [
           {
            "marker": {
             "pattern": {
              "fillmode": "overlay",
              "size": 10,
              "solidity": 0.2
             }
            },
            "type": "histogram"
           }
          ],
          "histogram2d": [
           {
            "colorbar": {
             "outlinewidth": 0,
             "ticks": ""
            },
            "colorscale": [
             [
              0,
              "#0d0887"
             ],
             [
              0.1111111111111111,
              "#46039f"
             ],
             [
              0.2222222222222222,
              "#7201a8"
             ],
             [
              0.3333333333333333,
              "#9c179e"
             ],
             [
              0.4444444444444444,
              "#bd3786"
             ],
             [
              0.5555555555555556,
              "#d8576b"
             ],
             [
              0.6666666666666666,
              "#ed7953"
             ],
             [
              0.7777777777777778,
              "#fb9f3a"
             ],
             [
              0.8888888888888888,
              "#fdca26"
             ],
             [
              1,
              "#f0f921"
             ]
            ],
            "type": "histogram2d"
           }
          ],
          "histogram2dcontour": [
           {
            "colorbar": {
             "outlinewidth": 0,
             "ticks": ""
            },
            "colorscale": [
             [
              0,
              "#0d0887"
             ],
             [
              0.1111111111111111,
              "#46039f"
             ],
             [
              0.2222222222222222,
              "#7201a8"
             ],
             [
              0.3333333333333333,
              "#9c179e"
             ],
             [
              0.4444444444444444,
              "#bd3786"
             ],
             [
              0.5555555555555556,
              "#d8576b"
             ],
             [
              0.6666666666666666,
              "#ed7953"
             ],
             [
              0.7777777777777778,
              "#fb9f3a"
             ],
             [
              0.8888888888888888,
              "#fdca26"
             ],
             [
              1,
              "#f0f921"
             ]
            ],
            "type": "histogram2dcontour"
           }
          ],
          "mesh3d": [
           {
            "colorbar": {
             "outlinewidth": 0,
             "ticks": ""
            },
            "type": "mesh3d"
           }
          ],
          "parcoords": [
           {
            "line": {
             "colorbar": {
              "outlinewidth": 0,
              "ticks": ""
             }
            },
            "type": "parcoords"
           }
          ],
          "pie": [
           {
            "automargin": true,
            "type": "pie"
           }
          ],
          "scatter": [
           {
            "fillpattern": {
             "fillmode": "overlay",
             "size": 10,
             "solidity": 0.2
            },
            "type": "scatter"
           }
          ],
          "scatter3d": [
           {
            "line": {
             "colorbar": {
              "outlinewidth": 0,
              "ticks": ""
             }
            },
            "marker": {
             "colorbar": {
              "outlinewidth": 0,
              "ticks": ""
             }
            },
            "type": "scatter3d"
           }
          ],
          "scattercarpet": [
           {
            "marker": {
             "colorbar": {
              "outlinewidth": 0,
              "ticks": ""
             }
            },
            "type": "scattercarpet"
           }
          ],
          "scattergeo": [
           {
            "marker": {
             "colorbar": {
              "outlinewidth": 0,
              "ticks": ""
             }
            },
            "type": "scattergeo"
           }
          ],
          "scattergl": [
           {
            "marker": {
             "colorbar": {
              "outlinewidth": 0,
              "ticks": ""
             }
            },
            "type": "scattergl"
           }
          ],
          "scattermapbox": [
           {
            "marker": {
             "colorbar": {
              "outlinewidth": 0,
              "ticks": ""
             }
            },
            "type": "scattermapbox"
           }
          ],
          "scatterpolar": [
           {
            "marker": {
             "colorbar": {
              "outlinewidth": 0,
              "ticks": ""
             }
            },
            "type": "scatterpolar"
           }
          ],
          "scatterpolargl": [
           {
            "marker": {
             "colorbar": {
              "outlinewidth": 0,
              "ticks": ""
             }
            },
            "type": "scatterpolargl"
           }
          ],
          "scatterternary": [
           {
            "marker": {
             "colorbar": {
              "outlinewidth": 0,
              "ticks": ""
             }
            },
            "type": "scatterternary"
           }
          ],
          "surface": [
           {
            "colorbar": {
             "outlinewidth": 0,
             "ticks": ""
            },
            "colorscale": [
             [
              0,
              "#0d0887"
             ],
             [
              0.1111111111111111,
              "#46039f"
             ],
             [
              0.2222222222222222,
              "#7201a8"
             ],
             [
              0.3333333333333333,
              "#9c179e"
             ],
             [
              0.4444444444444444,
              "#bd3786"
             ],
             [
              0.5555555555555556,
              "#d8576b"
             ],
             [
              0.6666666666666666,
              "#ed7953"
             ],
             [
              0.7777777777777778,
              "#fb9f3a"
             ],
             [
              0.8888888888888888,
              "#fdca26"
             ],
             [
              1,
              "#f0f921"
             ]
            ],
            "type": "surface"
           }
          ],
          "table": [
           {
            "cells": {
             "fill": {
              "color": "#EBF0F8"
             },
             "line": {
              "color": "white"
             }
            },
            "header": {
             "fill": {
              "color": "#C8D4E3"
             },
             "line": {
              "color": "white"
             }
            },
            "type": "table"
           }
          ]
         },
         "layout": {
          "annotationdefaults": {
           "arrowcolor": "#2a3f5f",
           "arrowhead": 0,
           "arrowwidth": 1
          },
          "autotypenumbers": "strict",
          "coloraxis": {
           "colorbar": {
            "outlinewidth": 0,
            "ticks": ""
           }
          },
          "colorscale": {
           "diverging": [
            [
             0,
             "#8e0152"
            ],
            [
             0.1,
             "#c51b7d"
            ],
            [
             0.2,
             "#de77ae"
            ],
            [
             0.3,
             "#f1b6da"
            ],
            [
             0.4,
             "#fde0ef"
            ],
            [
             0.5,
             "#f7f7f7"
            ],
            [
             0.6,
             "#e6f5d0"
            ],
            [
             0.7,
             "#b8e186"
            ],
            [
             0.8,
             "#7fbc41"
            ],
            [
             0.9,
             "#4d9221"
            ],
            [
             1,
             "#276419"
            ]
           ],
           "sequential": [
            [
             0,
             "#0d0887"
            ],
            [
             0.1111111111111111,
             "#46039f"
            ],
            [
             0.2222222222222222,
             "#7201a8"
            ],
            [
             0.3333333333333333,
             "#9c179e"
            ],
            [
             0.4444444444444444,
             "#bd3786"
            ],
            [
             0.5555555555555556,
             "#d8576b"
            ],
            [
             0.6666666666666666,
             "#ed7953"
            ],
            [
             0.7777777777777778,
             "#fb9f3a"
            ],
            [
             0.8888888888888888,
             "#fdca26"
            ],
            [
             1,
             "#f0f921"
            ]
           ],
           "sequentialminus": [
            [
             0,
             "#0d0887"
            ],
            [
             0.1111111111111111,
             "#46039f"
            ],
            [
             0.2222222222222222,
             "#7201a8"
            ],
            [
             0.3333333333333333,
             "#9c179e"
            ],
            [
             0.4444444444444444,
             "#bd3786"
            ],
            [
             0.5555555555555556,
             "#d8576b"
            ],
            [
             0.6666666666666666,
             "#ed7953"
            ],
            [
             0.7777777777777778,
             "#fb9f3a"
            ],
            [
             0.8888888888888888,
             "#fdca26"
            ],
            [
             1,
             "#f0f921"
            ]
           ]
          },
          "colorway": [
           "#636efa",
           "#EF553B",
           "#00cc96",
           "#ab63fa",
           "#FFA15A",
           "#19d3f3",
           "#FF6692",
           "#B6E880",
           "#FF97FF",
           "#FECB52"
          ],
          "font": {
           "color": "#2a3f5f"
          },
          "geo": {
           "bgcolor": "white",
           "lakecolor": "white",
           "landcolor": "#E5ECF6",
           "showlakes": true,
           "showland": true,
           "subunitcolor": "white"
          },
          "hoverlabel": {
           "align": "left"
          },
          "hovermode": "closest",
          "mapbox": {
           "style": "light"
          },
          "paper_bgcolor": "white",
          "plot_bgcolor": "#E5ECF6",
          "polar": {
           "angularaxis": {
            "gridcolor": "white",
            "linecolor": "white",
            "ticks": ""
           },
           "bgcolor": "#E5ECF6",
           "radialaxis": {
            "gridcolor": "white",
            "linecolor": "white",
            "ticks": ""
           }
          },
          "scene": {
           "xaxis": {
            "backgroundcolor": "#E5ECF6",
            "gridcolor": "white",
            "gridwidth": 2,
            "linecolor": "white",
            "showbackground": true,
            "ticks": "",
            "zerolinecolor": "white"
           },
           "yaxis": {
            "backgroundcolor": "#E5ECF6",
            "gridcolor": "white",
            "gridwidth": 2,
            "linecolor": "white",
            "showbackground": true,
            "ticks": "",
            "zerolinecolor": "white"
           },
           "zaxis": {
            "backgroundcolor": "#E5ECF6",
            "gridcolor": "white",
            "gridwidth": 2,
            "linecolor": "white",
            "showbackground": true,
            "ticks": "",
            "zerolinecolor": "white"
           }
          },
          "shapedefaults": {
           "line": {
            "color": "#2a3f5f"
           }
          },
          "ternary": {
           "aaxis": {
            "gridcolor": "white",
            "linecolor": "white",
            "ticks": ""
           },
           "baxis": {
            "gridcolor": "white",
            "linecolor": "white",
            "ticks": ""
           },
           "bgcolor": "#E5ECF6",
           "caxis": {
            "gridcolor": "white",
            "linecolor": "white",
            "ticks": ""
           }
          },
          "title": {
           "x": 0.05
          },
          "xaxis": {
           "automargin": true,
           "gridcolor": "white",
           "linecolor": "white",
           "ticks": "",
           "title": {
            "standoff": 15
           },
           "zerolinecolor": "white",
           "zerolinewidth": 2
          },
          "yaxis": {
           "automargin": true,
           "gridcolor": "white",
           "linecolor": "white",
           "ticks": "",
           "title": {
            "standoff": 15
           },
           "zerolinecolor": "white",
           "zerolinewidth": 2
          }
         }
        },
        "title": {
         "text": "Slice Plot"
        },
        "xaxis": {
         "anchor": "y",
         "domain": [
          0,
          0.45
         ],
         "title": {
          "text": "max_depth"
         }
        },
        "xaxis2": {
         "anchor": "y2",
         "domain": [
          0.55,
          1
         ],
         "title": {
          "text": "n_estimators"
         }
        },
        "yaxis": {
         "anchor": "x",
         "domain": [
          0,
          1
         ],
         "title": {
          "text": "Objective Value"
         }
        },
        "yaxis2": {
         "anchor": "x2",
         "domain": [
          0,
          1
         ],
         "matches": "y",
         "showticklabels": false
        }
       }
      }
     },
     "metadata": {},
     "output_type": "display_data"
    }
   ],
   "source": [
    "# 3. Slice Plot\n",
    "plot_slice(study)\n",
    "\n",
    "# again we can see that most optimum range for max_depth and n_estimators are (5,15) and (100,<200)"
   ]
  },
  {
   "cell_type": "code",
   "execution_count": null,
   "id": "2cabef48",
   "metadata": {},
   "outputs": [
    {
     "data": {
      "application/vnd.plotly.v1+json": {
       "config": {
        "plotlyServerURL": "https://plot.ly"
       },
       "data": [
        {
         "colorbar": {
          "title": {
           "text": "Objective Value"
          }
         },
         "colorscale": [
          [
           0,
           "rgb(247,251,255)"
          ],
          [
           0.125,
           "rgb(222,235,247)"
          ],
          [
           0.25,
           "rgb(198,219,239)"
          ],
          [
           0.375,
           "rgb(158,202,225)"
          ],
          [
           0.5,
           "rgb(107,174,214)"
          ],
          [
           0.625,
           "rgb(66,146,198)"
          ],
          [
           0.75,
           "rgb(33,113,181)"
          ],
          [
           0.875,
           "rgb(8,81,156)"
          ],
          [
           1,
           "rgb(8,48,107)"
          ]
         ],
         "connectgaps": true,
         "contours": {
          "coloring": "heatmap"
         },
         "hoverinfo": "none",
         "line": {
          "smoothing": 1.3
         },
         "reversescale": false,
         "type": "contour",
         "x": [
          2.15,
          3,
          5,
          6,
          7,
          8,
          9,
          10,
          11,
          12,
          13,
          15,
          16,
          17,
          20,
          20.85
         ],
         "y": [
          45.8,
          53,
          63,
          83,
          85,
          104,
          107,
          108,
          119,
          121,
          123,
          127,
          131,
          132,
          137,
          139,
          140,
          145,
          148,
          149,
          150,
          153,
          155,
          157,
          160,
          161,
          163,
          164,
          165,
          168,
          170,
          171,
          172,
          174,
          175,
          177,
          178,
          182,
          183,
          186,
          188,
          195,
          197,
          204.2
         ],
         "z": [
          [
           null,
           null,
           null,
           null,
           null,
           null,
           null,
           null,
           null,
           null,
           null,
           null,
           null,
           null,
           null,
           null
          ],
          [
           null,
           null,
           null,
           null,
           null,
           null,
           null,
           null,
           null,
           0.7578227760470752,
           null,
           null,
           null,
           null,
           null,
           null
          ],
          [
           null,
           null,
           null,
           null,
           null,
           null,
           null,
           null,
           null,
           null,
           null,
           null,
           null,
           null,
           0.7596919349255797,
           null
          ],
          [
           null,
           null,
           null,
           null,
           null,
           null,
           null,
           null,
           null,
           null,
           null,
           null,
           null,
           null,
           0.7596919349255798,
           null
          ],
          [
           null,
           null,
           null,
           null,
           null,
           null,
           null,
           null,
           null,
           0.750380754586362,
           null,
           null,
           null,
           null,
           null,
           null
          ],
          [
           null,
           null,
           0.7522672204915196,
           null,
           null,
           null,
           null,
           null,
           null,
           null,
           null,
           null,
           null,
           null,
           null,
           null
          ],
          [
           null,
           null,
           null,
           null,
           null,
           0.7596746278989269,
           null,
           null,
           null,
           null,
           null,
           null,
           null,
           null,
           null,
           null
          ],
          [
           null,
           null,
           null,
           null,
           null,
           null,
           null,
           0.7708549671166494,
           null,
           null,
           null,
           null,
           null,
           null,
           null,
           null
          ],
          [
           null,
           null,
           null,
           null,
           null,
           null,
           null,
           0.7689858082381447,
           null,
           null,
           null,
           null,
           null,
           null,
           null,
           null
          ],
          [
           null,
           null,
           null,
           null,
           null,
           null,
           null,
           null,
           null,
           null,
           null,
           0.7541017653167186,
           null,
           null,
           null,
           null
          ],
          [
           null,
           null,
           null,
           null,
           0.7559709241952233,
           null,
           null,
           null,
           null,
           null,
           null,
           null,
           null,
           null,
           null,
           null
          ],
          [
           null,
           null,
           null,
           null,
           0.7597092419522326,
           null,
           null,
           null,
           null,
           null,
           null,
           null,
           null,
           null,
           null,
           null
          ],
          [
           null,
           0.7522672204915196,
           null,
           null,
           null,
           null,
           null,
           null,
           null,
           null,
           null,
           null,
           null,
           null,
           null,
           null
          ],
          [
           null,
           null,
           null,
           null,
           null,
           null,
           null,
           null,
           0.7596227068189685,
           null,
           null,
           null,
           null,
           null,
           null,
           null
          ],
          [
           null,
           null,
           null,
           null,
           null,
           null,
           null,
           0.7615264797507788,
           null,
           null,
           null,
           null,
           null,
           null,
           null,
           null
          ],
          [
           null,
           null,
           null,
           null,
           null,
           null,
           null,
           null,
           null,
           null,
           0.7614918656974732,
           null,
           null,
           null,
           null,
           null
          ],
          [
           null,
           null,
           null,
           null,
           0.757822776047075,
           null,
           0.7727587400484597,
           null,
           null,
           null,
           null,
           null,
           null,
           null,
           null,
           null
          ],
          [
           null,
           null,
           null,
           null,
           null,
           null,
           0.7727587400484597,
           null,
           null,
           0.75404984423676,
           null,
           null,
           null,
           null,
           null,
           null
          ],
          [
           null,
           null,
           null,
           null,
           null,
           null,
           null,
           null,
           null,
           null,
           0.7652474904811353,
           null,
           null,
           null,
           null,
           null
          ],
          [
           null,
           null,
           0.7541017653167186,
           null,
           null,
           null,
           null,
           null,
           null,
           null,
           null,
           null,
           null,
           null,
           null,
           null
          ],
          [
           null,
           null,
           null,
           null,
           null,
           0.7596919349255797,
           null,
           null,
           null,
           null,
           null,
           null,
           null,
           null,
           null,
           null
          ],
          [
           null,
           null,
           null,
           null,
           null,
           null,
           0.7727414330218069,
           null,
           null,
           null,
           null,
           null,
           null,
           null,
           null,
           null
          ],
          [
           null,
           null,
           null,
           null,
           null,
           0.7634302526825891,
           null,
           null,
           null,
           null,
           null,
           null,
           null,
           null,
           null,
           null
          ],
          [
           null,
           null,
           0.7522326064382139,
           null,
           null,
           null,
           null,
           null,
           null,
           null,
           null,
           null,
           null,
           null,
           null,
           null
          ],
          [
           null,
           null,
           null,
           null,
           0.7596919349255797,
           null,
           null,
           null,
           null,
           null,
           null,
           null,
           null,
           0.7652647975077882,
           null,
           null
          ],
          [
           null,
           null,
           null,
           0.765282104534441,
           null,
           null,
           null,
           null,
           null,
           null,
           null,
           null,
           null,
           null,
           null,
           null
          ],
          [
           null,
           null,
           null,
           null,
           null,
           null,
           null,
           0.76711664935964,
           null,
           null,
           null,
           null,
           null,
           null,
           null,
           null
          ],
          [
           null,
           null,
           null,
           null,
           null,
           null,
           null,
           null,
           null,
           null,
           0.7596573208722741,
           null,
           null,
           null,
           null,
           null
          ],
          [
           null,
           null,
           null,
           null,
           null,
           null,
           0.776497057805469,
           null,
           null,
           null,
           null,
           null,
           null,
           null,
           null,
           null
          ],
          [
           null,
           null,
           null,
           null,
           null,
           null,
           null,
           null,
           0.7633783316026307,
           null,
           null,
           null,
           null,
           null,
           null,
           null
          ],
          [
           null,
           null,
           null,
           null,
           null,
           0.7634129456559362,
           null,
           null,
           null,
           null,
           null,
           null,
           null,
           null,
           null,
           null
          ],
          [
           null,
           0.7504153686396677,
           null,
           null,
           null,
           null,
           null,
           null,
           null,
           null,
           null,
           null,
           null,
           null,
           null,
           null
          ],
          [
           null,
           null,
           null,
           null,
           null,
           null,
           0.7690377293181031,
           null,
           null,
           null,
           null,
           null,
           null,
           null,
           null,
           null
          ],
          [
           null,
           null,
           null,
           null,
           null,
           null,
           0.7709068881966079,
           null,
           null,
           null,
           null,
           null,
           null,
           null,
           null,
           null
          ],
          [
           null,
           null,
           null,
           null,
           null,
           null,
           null,
           null,
           0.7615264797507789,
           null,
           null,
           null,
           null,
           null,
           null,
           null
          ],
          [
           null,
           null,
           null,
           0.7633956386292835,
           null,
           null,
           0.769055036344756,
           null,
           null,
           null,
           null,
           null,
           null,
           null,
           null,
           null
          ],
          [
           null,
           null,
           null,
           null,
           null,
           null,
           null,
           0.7633783316026307,
           null,
           null,
           null,
           null,
           null,
           null,
           null,
           null
          ],
          [
           null,
           null,
           null,
           null,
           0.7597092419522327,
           null,
           null,
           null,
           null,
           null,
           null,
           null,
           null,
           null,
           null,
           null
          ],
          [
           null,
           null,
           null,
           null,
           null,
           null,
           0.7690377293181031,
           null,
           null,
           null,
           null,
           null,
           null,
           null,
           null,
           null
          ],
          [
           null,
           null,
           null,
           null,
           null,
           null,
           null,
           null,
           0.759674627898927,
           null,
           null,
           null,
           null,
           null,
           null,
           null
          ],
          [
           null,
           null,
           null,
           0.7615437867774316,
           null,
           null,
           null,
           null,
           null,
           null,
           null,
           null,
           null,
           null,
           null,
           null
          ],
          [
           null,
           null,
           null,
           null,
           null,
           null,
           null,
           null,
           null,
           0.7521806853582554,
           null,
           0.7597092419522327,
           null,
           null,
           null,
           null
          ],
          [
           null,
           null,
           null,
           null,
           null,
           null,
           null,
           null,
           null,
           null,
           null,
           null,
           0.7652994115610937,
           null,
           null,
           null
          ],
          [
           null,
           null,
           null,
           null,
           null,
           null,
           null,
           null,
           null,
           null,
           null,
           null,
           null,
           null,
           null,
           null
          ]
         ]
        },
        {
         "marker": {
          "color": "black",
          "line": {
           "color": "Gray",
           "width": 2
          }
         },
         "mode": "markers",
         "name": "Feasible Trial",
         "showlegend": false,
         "type": "scatter",
         "x": [
          9,
          7,
          17,
          11,
          12,
          3,
          20,
          7,
          5,
          20,
          12,
          16,
          15,
          15,
          9,
          10,
          9,
          8,
          13,
          5,
          5,
          9,
          9,
          10,
          7,
          13,
          9,
          6,
          3,
          10,
          8,
          8,
          11,
          9,
          9,
          11,
          6,
          13,
          9,
          7,
          10,
          9,
          12,
          8,
          6,
          10,
          12,
          9,
          11,
          7
         ],
         "y": [
          174,
          123,
          160,
          175,
          85,
          171,
          83,
          140,
          149,
          63,
          195,
          197,
          195,
          121,
          183,
          178,
          140,
          107,
          139,
          157,
          104,
          177,
          165,
          137,
          160,
          148,
          165,
          161,
          131,
          108,
          150,
          170,
          186,
          165,
          165,
          168,
          188,
          164,
          153,
          127,
          119,
          172,
          145,
          155,
          177,
          163,
          53,
          145,
          132,
          182
         ]
        },
        {
         "marker": {
          "color": "#cccccc",
          "line": {
           "color": "Gray",
           "width": 2
          }
         },
         "mode": "markers",
         "name": "Infeasible Trial",
         "showlegend": false,
         "type": "scatter",
         "x": [],
         "y": []
        }
       ],
       "layout": {
        "template": {
         "data": {
          "bar": [
           {
            "error_x": {
             "color": "#2a3f5f"
            },
            "error_y": {
             "color": "#2a3f5f"
            },
            "marker": {
             "line": {
              "color": "#E5ECF6",
              "width": 0.5
             },
             "pattern": {
              "fillmode": "overlay",
              "size": 10,
              "solidity": 0.2
             }
            },
            "type": "bar"
           }
          ],
          "barpolar": [
           {
            "marker": {
             "line": {
              "color": "#E5ECF6",
              "width": 0.5
             },
             "pattern": {
              "fillmode": "overlay",
              "size": 10,
              "solidity": 0.2
             }
            },
            "type": "barpolar"
           }
          ],
          "carpet": [
           {
            "aaxis": {
             "endlinecolor": "#2a3f5f",
             "gridcolor": "white",
             "linecolor": "white",
             "minorgridcolor": "white",
             "startlinecolor": "#2a3f5f"
            },
            "baxis": {
             "endlinecolor": "#2a3f5f",
             "gridcolor": "white",
             "linecolor": "white",
             "minorgridcolor": "white",
             "startlinecolor": "#2a3f5f"
            },
            "type": "carpet"
           }
          ],
          "choropleth": [
           {
            "colorbar": {
             "outlinewidth": 0,
             "ticks": ""
            },
            "type": "choropleth"
           }
          ],
          "contour": [
           {
            "colorbar": {
             "outlinewidth": 0,
             "ticks": ""
            },
            "colorscale": [
             [
              0,
              "#0d0887"
             ],
             [
              0.1111111111111111,
              "#46039f"
             ],
             [
              0.2222222222222222,
              "#7201a8"
             ],
             [
              0.3333333333333333,
              "#9c179e"
             ],
             [
              0.4444444444444444,
              "#bd3786"
             ],
             [
              0.5555555555555556,
              "#d8576b"
             ],
             [
              0.6666666666666666,
              "#ed7953"
             ],
             [
              0.7777777777777778,
              "#fb9f3a"
             ],
             [
              0.8888888888888888,
              "#fdca26"
             ],
             [
              1,
              "#f0f921"
             ]
            ],
            "type": "contour"
           }
          ],
          "contourcarpet": [
           {
            "colorbar": {
             "outlinewidth": 0,
             "ticks": ""
            },
            "type": "contourcarpet"
           }
          ],
          "heatmap": [
           {
            "colorbar": {
             "outlinewidth": 0,
             "ticks": ""
            },
            "colorscale": [
             [
              0,
              "#0d0887"
             ],
             [
              0.1111111111111111,
              "#46039f"
             ],
             [
              0.2222222222222222,
              "#7201a8"
             ],
             [
              0.3333333333333333,
              "#9c179e"
             ],
             [
              0.4444444444444444,
              "#bd3786"
             ],
             [
              0.5555555555555556,
              "#d8576b"
             ],
             [
              0.6666666666666666,
              "#ed7953"
             ],
             [
              0.7777777777777778,
              "#fb9f3a"
             ],
             [
              0.8888888888888888,
              "#fdca26"
             ],
             [
              1,
              "#f0f921"
             ]
            ],
            "type": "heatmap"
           }
          ],
          "heatmapgl": [
           {
            "colorbar": {
             "outlinewidth": 0,
             "ticks": ""
            },
            "colorscale": [
             [
              0,
              "#0d0887"
             ],
             [
              0.1111111111111111,
              "#46039f"
             ],
             [
              0.2222222222222222,
              "#7201a8"
             ],
             [
              0.3333333333333333,
              "#9c179e"
             ],
             [
              0.4444444444444444,
              "#bd3786"
             ],
             [
              0.5555555555555556,
              "#d8576b"
             ],
             [
              0.6666666666666666,
              "#ed7953"
             ],
             [
              0.7777777777777778,
              "#fb9f3a"
             ],
             [
              0.8888888888888888,
              "#fdca26"
             ],
             [
              1,
              "#f0f921"
             ]
            ],
            "type": "heatmapgl"
           }
          ],
          "histogram": [
           {
            "marker": {
             "pattern": {
              "fillmode": "overlay",
              "size": 10,
              "solidity": 0.2
             }
            },
            "type": "histogram"
           }
          ],
          "histogram2d": [
           {
            "colorbar": {
             "outlinewidth": 0,
             "ticks": ""
            },
            "colorscale": [
             [
              0,
              "#0d0887"
             ],
             [
              0.1111111111111111,
              "#46039f"
             ],
             [
              0.2222222222222222,
              "#7201a8"
             ],
             [
              0.3333333333333333,
              "#9c179e"
             ],
             [
              0.4444444444444444,
              "#bd3786"
             ],
             [
              0.5555555555555556,
              "#d8576b"
             ],
             [
              0.6666666666666666,
              "#ed7953"
             ],
             [
              0.7777777777777778,
              "#fb9f3a"
             ],
             [
              0.8888888888888888,
              "#fdca26"
             ],
             [
              1,
              "#f0f921"
             ]
            ],
            "type": "histogram2d"
           }
          ],
          "histogram2dcontour": [
           {
            "colorbar": {
             "outlinewidth": 0,
             "ticks": ""
            },
            "colorscale": [
             [
              0,
              "#0d0887"
             ],
             [
              0.1111111111111111,
              "#46039f"
             ],
             [
              0.2222222222222222,
              "#7201a8"
             ],
             [
              0.3333333333333333,
              "#9c179e"
             ],
             [
              0.4444444444444444,
              "#bd3786"
             ],
             [
              0.5555555555555556,
              "#d8576b"
             ],
             [
              0.6666666666666666,
              "#ed7953"
             ],
             [
              0.7777777777777778,
              "#fb9f3a"
             ],
             [
              0.8888888888888888,
              "#fdca26"
             ],
             [
              1,
              "#f0f921"
             ]
            ],
            "type": "histogram2dcontour"
           }
          ],
          "mesh3d": [
           {
            "colorbar": {
             "outlinewidth": 0,
             "ticks": ""
            },
            "type": "mesh3d"
           }
          ],
          "parcoords": [
           {
            "line": {
             "colorbar": {
              "outlinewidth": 0,
              "ticks": ""
             }
            },
            "type": "parcoords"
           }
          ],
          "pie": [
           {
            "automargin": true,
            "type": "pie"
           }
          ],
          "scatter": [
           {
            "fillpattern": {
             "fillmode": "overlay",
             "size": 10,
             "solidity": 0.2
            },
            "type": "scatter"
           }
          ],
          "scatter3d": [
           {
            "line": {
             "colorbar": {
              "outlinewidth": 0,
              "ticks": ""
             }
            },
            "marker": {
             "colorbar": {
              "outlinewidth": 0,
              "ticks": ""
             }
            },
            "type": "scatter3d"
           }
          ],
          "scattercarpet": [
           {
            "marker": {
             "colorbar": {
              "outlinewidth": 0,
              "ticks": ""
             }
            },
            "type": "scattercarpet"
           }
          ],
          "scattergeo": [
           {
            "marker": {
             "colorbar": {
              "outlinewidth": 0,
              "ticks": ""
             }
            },
            "type": "scattergeo"
           }
          ],
          "scattergl": [
           {
            "marker": {
             "colorbar": {
              "outlinewidth": 0,
              "ticks": ""
             }
            },
            "type": "scattergl"
           }
          ],
          "scattermapbox": [
           {
            "marker": {
             "colorbar": {
              "outlinewidth": 0,
              "ticks": ""
             }
            },
            "type": "scattermapbox"
           }
          ],
          "scatterpolar": [
           {
            "marker": {
             "colorbar": {
              "outlinewidth": 0,
              "ticks": ""
             }
            },
            "type": "scatterpolar"
           }
          ],
          "scatterpolargl": [
           {
            "marker": {
             "colorbar": {
              "outlinewidth": 0,
              "ticks": ""
             }
            },
            "type": "scatterpolargl"
           }
          ],
          "scatterternary": [
           {
            "marker": {
             "colorbar": {
              "outlinewidth": 0,
              "ticks": ""
             }
            },
            "type": "scatterternary"
           }
          ],
          "surface": [
           {
            "colorbar": {
             "outlinewidth": 0,
             "ticks": ""
            },
            "colorscale": [
             [
              0,
              "#0d0887"
             ],
             [
              0.1111111111111111,
              "#46039f"
             ],
             [
              0.2222222222222222,
              "#7201a8"
             ],
             [
              0.3333333333333333,
              "#9c179e"
             ],
             [
              0.4444444444444444,
              "#bd3786"
             ],
             [
              0.5555555555555556,
              "#d8576b"
             ],
             [
              0.6666666666666666,
              "#ed7953"
             ],
             [
              0.7777777777777778,
              "#fb9f3a"
             ],
             [
              0.8888888888888888,
              "#fdca26"
             ],
             [
              1,
              "#f0f921"
             ]
            ],
            "type": "surface"
           }
          ],
          "table": [
           {
            "cells": {
             "fill": {
              "color": "#EBF0F8"
             },
             "line": {
              "color": "white"
             }
            },
            "header": {
             "fill": {
              "color": "#C8D4E3"
             },
             "line": {
              "color": "white"
             }
            },
            "type": "table"
           }
          ]
         },
         "layout": {
          "annotationdefaults": {
           "arrowcolor": "#2a3f5f",
           "arrowhead": 0,
           "arrowwidth": 1
          },
          "autotypenumbers": "strict",
          "coloraxis": {
           "colorbar": {
            "outlinewidth": 0,
            "ticks": ""
           }
          },
          "colorscale": {
           "diverging": [
            [
             0,
             "#8e0152"
            ],
            [
             0.1,
             "#c51b7d"
            ],
            [
             0.2,
             "#de77ae"
            ],
            [
             0.3,
             "#f1b6da"
            ],
            [
             0.4,
             "#fde0ef"
            ],
            [
             0.5,
             "#f7f7f7"
            ],
            [
             0.6,
             "#e6f5d0"
            ],
            [
             0.7,
             "#b8e186"
            ],
            [
             0.8,
             "#7fbc41"
            ],
            [
             0.9,
             "#4d9221"
            ],
            [
             1,
             "#276419"
            ]
           ],
           "sequential": [
            [
             0,
             "#0d0887"
            ],
            [
             0.1111111111111111,
             "#46039f"
            ],
            [
             0.2222222222222222,
             "#7201a8"
            ],
            [
             0.3333333333333333,
             "#9c179e"
            ],
            [
             0.4444444444444444,
             "#bd3786"
            ],
            [
             0.5555555555555556,
             "#d8576b"
            ],
            [
             0.6666666666666666,
             "#ed7953"
            ],
            [
             0.7777777777777778,
             "#fb9f3a"
            ],
            [
             0.8888888888888888,
             "#fdca26"
            ],
            [
             1,
             "#f0f921"
            ]
           ],
           "sequentialminus": [
            [
             0,
             "#0d0887"
            ],
            [
             0.1111111111111111,
             "#46039f"
            ],
            [
             0.2222222222222222,
             "#7201a8"
            ],
            [
             0.3333333333333333,
             "#9c179e"
            ],
            [
             0.4444444444444444,
             "#bd3786"
            ],
            [
             0.5555555555555556,
             "#d8576b"
            ],
            [
             0.6666666666666666,
             "#ed7953"
            ],
            [
             0.7777777777777778,
             "#fb9f3a"
            ],
            [
             0.8888888888888888,
             "#fdca26"
            ],
            [
             1,
             "#f0f921"
            ]
           ]
          },
          "colorway": [
           "#636efa",
           "#EF553B",
           "#00cc96",
           "#ab63fa",
           "#FFA15A",
           "#19d3f3",
           "#FF6692",
           "#B6E880",
           "#FF97FF",
           "#FECB52"
          ],
          "font": {
           "color": "#2a3f5f"
          },
          "geo": {
           "bgcolor": "white",
           "lakecolor": "white",
           "landcolor": "#E5ECF6",
           "showlakes": true,
           "showland": true,
           "subunitcolor": "white"
          },
          "hoverlabel": {
           "align": "left"
          },
          "hovermode": "closest",
          "mapbox": {
           "style": "light"
          },
          "paper_bgcolor": "white",
          "plot_bgcolor": "#E5ECF6",
          "polar": {
           "angularaxis": {
            "gridcolor": "white",
            "linecolor": "white",
            "ticks": ""
           },
           "bgcolor": "#E5ECF6",
           "radialaxis": {
            "gridcolor": "white",
            "linecolor": "white",
            "ticks": ""
           }
          },
          "scene": {
           "xaxis": {
            "backgroundcolor": "#E5ECF6",
            "gridcolor": "white",
            "gridwidth": 2,
            "linecolor": "white",
            "showbackground": true,
            "ticks": "",
            "zerolinecolor": "white"
           },
           "yaxis": {
            "backgroundcolor": "#E5ECF6",
            "gridcolor": "white",
            "gridwidth": 2,
            "linecolor": "white",
            "showbackground": true,
            "ticks": "",
            "zerolinecolor": "white"
           },
           "zaxis": {
            "backgroundcolor": "#E5ECF6",
            "gridcolor": "white",
            "gridwidth": 2,
            "linecolor": "white",
            "showbackground": true,
            "ticks": "",
            "zerolinecolor": "white"
           }
          },
          "shapedefaults": {
           "line": {
            "color": "#2a3f5f"
           }
          },
          "ternary": {
           "aaxis": {
            "gridcolor": "white",
            "linecolor": "white",
            "ticks": ""
           },
           "baxis": {
            "gridcolor": "white",
            "linecolor": "white",
            "ticks": ""
           },
           "bgcolor": "#E5ECF6",
           "caxis": {
            "gridcolor": "white",
            "linecolor": "white",
            "ticks": ""
           }
          },
          "title": {
           "x": 0.05
          },
          "xaxis": {
           "automargin": true,
           "gridcolor": "white",
           "linecolor": "white",
           "ticks": "",
           "title": {
            "standoff": 15
           },
           "zerolinecolor": "white",
           "zerolinewidth": 2
          },
          "yaxis": {
           "automargin": true,
           "gridcolor": "white",
           "linecolor": "white",
           "ticks": "",
           "title": {
            "standoff": 15
           },
           "zerolinecolor": "white",
           "zerolinewidth": 2
          }
         }
        },
        "title": {
         "text": "Contour Plot"
        },
        "xaxis": {
         "range": [
          2.15,
          20.85
         ],
         "title": {
          "text": "max_depth"
         }
        },
        "yaxis": {
         "range": [
          45.8,
          204.2
         ],
         "title": {
          "text": "n_estimators"
         }
        }
       }
      }
     },
     "metadata": {},
     "output_type": "display_data"
    }
   ],
   "source": [
    "# 4. Contour Plot\n",
    "plot_contour(study)\n",
    "\n",
    "# gives the dense and sparse regions of the conducted trials search space"
   ]
  },
  {
   "cell_type": "code",
   "execution_count": 37,
   "id": "bc8877e1",
   "metadata": {},
   "outputs": [
    {
     "data": {
      "application/vnd.plotly.v1+json": {
       "config": {
        "plotlyServerURL": "https://plot.ly"
       },
       "data": [
        {
         "cliponaxis": false,
         "hovertemplate": [
          "n_estimators (IntDistribution): 0.1953548377556682<extra></extra>",
          "max_depth (IntDistribution): 0.8046451622443318<extra></extra>"
         ],
         "name": "Objective Value",
         "orientation": "h",
         "text": [
          "0.20",
          "0.80"
         ],
         "textposition": "outside",
         "type": "bar",
         "x": [
          0.1953548377556682,
          0.8046451622443318
         ],
         "y": [
          "n_estimators",
          "max_depth"
         ]
        }
       ],
       "layout": {
        "template": {
         "data": {
          "bar": [
           {
            "error_x": {
             "color": "#2a3f5f"
            },
            "error_y": {
             "color": "#2a3f5f"
            },
            "marker": {
             "line": {
              "color": "#E5ECF6",
              "width": 0.5
             },
             "pattern": {
              "fillmode": "overlay",
              "size": 10,
              "solidity": 0.2
             }
            },
            "type": "bar"
           }
          ],
          "barpolar": [
           {
            "marker": {
             "line": {
              "color": "#E5ECF6",
              "width": 0.5
             },
             "pattern": {
              "fillmode": "overlay",
              "size": 10,
              "solidity": 0.2
             }
            },
            "type": "barpolar"
           }
          ],
          "carpet": [
           {
            "aaxis": {
             "endlinecolor": "#2a3f5f",
             "gridcolor": "white",
             "linecolor": "white",
             "minorgridcolor": "white",
             "startlinecolor": "#2a3f5f"
            },
            "baxis": {
             "endlinecolor": "#2a3f5f",
             "gridcolor": "white",
             "linecolor": "white",
             "minorgridcolor": "white",
             "startlinecolor": "#2a3f5f"
            },
            "type": "carpet"
           }
          ],
          "choropleth": [
           {
            "colorbar": {
             "outlinewidth": 0,
             "ticks": ""
            },
            "type": "choropleth"
           }
          ],
          "contour": [
           {
            "colorbar": {
             "outlinewidth": 0,
             "ticks": ""
            },
            "colorscale": [
             [
              0,
              "#0d0887"
             ],
             [
              0.1111111111111111,
              "#46039f"
             ],
             [
              0.2222222222222222,
              "#7201a8"
             ],
             [
              0.3333333333333333,
              "#9c179e"
             ],
             [
              0.4444444444444444,
              "#bd3786"
             ],
             [
              0.5555555555555556,
              "#d8576b"
             ],
             [
              0.6666666666666666,
              "#ed7953"
             ],
             [
              0.7777777777777778,
              "#fb9f3a"
             ],
             [
              0.8888888888888888,
              "#fdca26"
             ],
             [
              1,
              "#f0f921"
             ]
            ],
            "type": "contour"
           }
          ],
          "contourcarpet": [
           {
            "colorbar": {
             "outlinewidth": 0,
             "ticks": ""
            },
            "type": "contourcarpet"
           }
          ],
          "heatmap": [
           {
            "colorbar": {
             "outlinewidth": 0,
             "ticks": ""
            },
            "colorscale": [
             [
              0,
              "#0d0887"
             ],
             [
              0.1111111111111111,
              "#46039f"
             ],
             [
              0.2222222222222222,
              "#7201a8"
             ],
             [
              0.3333333333333333,
              "#9c179e"
             ],
             [
              0.4444444444444444,
              "#bd3786"
             ],
             [
              0.5555555555555556,
              "#d8576b"
             ],
             [
              0.6666666666666666,
              "#ed7953"
             ],
             [
              0.7777777777777778,
              "#fb9f3a"
             ],
             [
              0.8888888888888888,
              "#fdca26"
             ],
             [
              1,
              "#f0f921"
             ]
            ],
            "type": "heatmap"
           }
          ],
          "heatmapgl": [
           {
            "colorbar": {
             "outlinewidth": 0,
             "ticks": ""
            },
            "colorscale": [
             [
              0,
              "#0d0887"
             ],
             [
              0.1111111111111111,
              "#46039f"
             ],
             [
              0.2222222222222222,
              "#7201a8"
             ],
             [
              0.3333333333333333,
              "#9c179e"
             ],
             [
              0.4444444444444444,
              "#bd3786"
             ],
             [
              0.5555555555555556,
              "#d8576b"
             ],
             [
              0.6666666666666666,
              "#ed7953"
             ],
             [
              0.7777777777777778,
              "#fb9f3a"
             ],
             [
              0.8888888888888888,
              "#fdca26"
             ],
             [
              1,
              "#f0f921"
             ]
            ],
            "type": "heatmapgl"
           }
          ],
          "histogram": [
           {
            "marker": {
             "pattern": {
              "fillmode": "overlay",
              "size": 10,
              "solidity": 0.2
             }
            },
            "type": "histogram"
           }
          ],
          "histogram2d": [
           {
            "colorbar": {
             "outlinewidth": 0,
             "ticks": ""
            },
            "colorscale": [
             [
              0,
              "#0d0887"
             ],
             [
              0.1111111111111111,
              "#46039f"
             ],
             [
              0.2222222222222222,
              "#7201a8"
             ],
             [
              0.3333333333333333,
              "#9c179e"
             ],
             [
              0.4444444444444444,
              "#bd3786"
             ],
             [
              0.5555555555555556,
              "#d8576b"
             ],
             [
              0.6666666666666666,
              "#ed7953"
             ],
             [
              0.7777777777777778,
              "#fb9f3a"
             ],
             [
              0.8888888888888888,
              "#fdca26"
             ],
             [
              1,
              "#f0f921"
             ]
            ],
            "type": "histogram2d"
           }
          ],
          "histogram2dcontour": [
           {
            "colorbar": {
             "outlinewidth": 0,
             "ticks": ""
            },
            "colorscale": [
             [
              0,
              "#0d0887"
             ],
             [
              0.1111111111111111,
              "#46039f"
             ],
             [
              0.2222222222222222,
              "#7201a8"
             ],
             [
              0.3333333333333333,
              "#9c179e"
             ],
             [
              0.4444444444444444,
              "#bd3786"
             ],
             [
              0.5555555555555556,
              "#d8576b"
             ],
             [
              0.6666666666666666,
              "#ed7953"
             ],
             [
              0.7777777777777778,
              "#fb9f3a"
             ],
             [
              0.8888888888888888,
              "#fdca26"
             ],
             [
              1,
              "#f0f921"
             ]
            ],
            "type": "histogram2dcontour"
           }
          ],
          "mesh3d": [
           {
            "colorbar": {
             "outlinewidth": 0,
             "ticks": ""
            },
            "type": "mesh3d"
           }
          ],
          "parcoords": [
           {
            "line": {
             "colorbar": {
              "outlinewidth": 0,
              "ticks": ""
             }
            },
            "type": "parcoords"
           }
          ],
          "pie": [
           {
            "automargin": true,
            "type": "pie"
           }
          ],
          "scatter": [
           {
            "fillpattern": {
             "fillmode": "overlay",
             "size": 10,
             "solidity": 0.2
            },
            "type": "scatter"
           }
          ],
          "scatter3d": [
           {
            "line": {
             "colorbar": {
              "outlinewidth": 0,
              "ticks": ""
             }
            },
            "marker": {
             "colorbar": {
              "outlinewidth": 0,
              "ticks": ""
             }
            },
            "type": "scatter3d"
           }
          ],
          "scattercarpet": [
           {
            "marker": {
             "colorbar": {
              "outlinewidth": 0,
              "ticks": ""
             }
            },
            "type": "scattercarpet"
           }
          ],
          "scattergeo": [
           {
            "marker": {
             "colorbar": {
              "outlinewidth": 0,
              "ticks": ""
             }
            },
            "type": "scattergeo"
           }
          ],
          "scattergl": [
           {
            "marker": {
             "colorbar": {
              "outlinewidth": 0,
              "ticks": ""
             }
            },
            "type": "scattergl"
           }
          ],
          "scattermapbox": [
           {
            "marker": {
             "colorbar": {
              "outlinewidth": 0,
              "ticks": ""
             }
            },
            "type": "scattermapbox"
           }
          ],
          "scatterpolar": [
           {
            "marker": {
             "colorbar": {
              "outlinewidth": 0,
              "ticks": ""
             }
            },
            "type": "scatterpolar"
           }
          ],
          "scatterpolargl": [
           {
            "marker": {
             "colorbar": {
              "outlinewidth": 0,
              "ticks": ""
             }
            },
            "type": "scatterpolargl"
           }
          ],
          "scatterternary": [
           {
            "marker": {
             "colorbar": {
              "outlinewidth": 0,
              "ticks": ""
             }
            },
            "type": "scatterternary"
           }
          ],
          "surface": [
           {
            "colorbar": {
             "outlinewidth": 0,
             "ticks": ""
            },
            "colorscale": [
             [
              0,
              "#0d0887"
             ],
             [
              0.1111111111111111,
              "#46039f"
             ],
             [
              0.2222222222222222,
              "#7201a8"
             ],
             [
              0.3333333333333333,
              "#9c179e"
             ],
             [
              0.4444444444444444,
              "#bd3786"
             ],
             [
              0.5555555555555556,
              "#d8576b"
             ],
             [
              0.6666666666666666,
              "#ed7953"
             ],
             [
              0.7777777777777778,
              "#fb9f3a"
             ],
             [
              0.8888888888888888,
              "#fdca26"
             ],
             [
              1,
              "#f0f921"
             ]
            ],
            "type": "surface"
           }
          ],
          "table": [
           {
            "cells": {
             "fill": {
              "color": "#EBF0F8"
             },
             "line": {
              "color": "white"
             }
            },
            "header": {
             "fill": {
              "color": "#C8D4E3"
             },
             "line": {
              "color": "white"
             }
            },
            "type": "table"
           }
          ]
         },
         "layout": {
          "annotationdefaults": {
           "arrowcolor": "#2a3f5f",
           "arrowhead": 0,
           "arrowwidth": 1
          },
          "autotypenumbers": "strict",
          "coloraxis": {
           "colorbar": {
            "outlinewidth": 0,
            "ticks": ""
           }
          },
          "colorscale": {
           "diverging": [
            [
             0,
             "#8e0152"
            ],
            [
             0.1,
             "#c51b7d"
            ],
            [
             0.2,
             "#de77ae"
            ],
            [
             0.3,
             "#f1b6da"
            ],
            [
             0.4,
             "#fde0ef"
            ],
            [
             0.5,
             "#f7f7f7"
            ],
            [
             0.6,
             "#e6f5d0"
            ],
            [
             0.7,
             "#b8e186"
            ],
            [
             0.8,
             "#7fbc41"
            ],
            [
             0.9,
             "#4d9221"
            ],
            [
             1,
             "#276419"
            ]
           ],
           "sequential": [
            [
             0,
             "#0d0887"
            ],
            [
             0.1111111111111111,
             "#46039f"
            ],
            [
             0.2222222222222222,
             "#7201a8"
            ],
            [
             0.3333333333333333,
             "#9c179e"
            ],
            [
             0.4444444444444444,
             "#bd3786"
            ],
            [
             0.5555555555555556,
             "#d8576b"
            ],
            [
             0.6666666666666666,
             "#ed7953"
            ],
            [
             0.7777777777777778,
             "#fb9f3a"
            ],
            [
             0.8888888888888888,
             "#fdca26"
            ],
            [
             1,
             "#f0f921"
            ]
           ],
           "sequentialminus": [
            [
             0,
             "#0d0887"
            ],
            [
             0.1111111111111111,
             "#46039f"
            ],
            [
             0.2222222222222222,
             "#7201a8"
            ],
            [
             0.3333333333333333,
             "#9c179e"
            ],
            [
             0.4444444444444444,
             "#bd3786"
            ],
            [
             0.5555555555555556,
             "#d8576b"
            ],
            [
             0.6666666666666666,
             "#ed7953"
            ],
            [
             0.7777777777777778,
             "#fb9f3a"
            ],
            [
             0.8888888888888888,
             "#fdca26"
            ],
            [
             1,
             "#f0f921"
            ]
           ]
          },
          "colorway": [
           "#636efa",
           "#EF553B",
           "#00cc96",
           "#ab63fa",
           "#FFA15A",
           "#19d3f3",
           "#FF6692",
           "#B6E880",
           "#FF97FF",
           "#FECB52"
          ],
          "font": {
           "color": "#2a3f5f"
          },
          "geo": {
           "bgcolor": "white",
           "lakecolor": "white",
           "landcolor": "#E5ECF6",
           "showlakes": true,
           "showland": true,
           "subunitcolor": "white"
          },
          "hoverlabel": {
           "align": "left"
          },
          "hovermode": "closest",
          "mapbox": {
           "style": "light"
          },
          "paper_bgcolor": "white",
          "plot_bgcolor": "#E5ECF6",
          "polar": {
           "angularaxis": {
            "gridcolor": "white",
            "linecolor": "white",
            "ticks": ""
           },
           "bgcolor": "#E5ECF6",
           "radialaxis": {
            "gridcolor": "white",
            "linecolor": "white",
            "ticks": ""
           }
          },
          "scene": {
           "xaxis": {
            "backgroundcolor": "#E5ECF6",
            "gridcolor": "white",
            "gridwidth": 2,
            "linecolor": "white",
            "showbackground": true,
            "ticks": "",
            "zerolinecolor": "white"
           },
           "yaxis": {
            "backgroundcolor": "#E5ECF6",
            "gridcolor": "white",
            "gridwidth": 2,
            "linecolor": "white",
            "showbackground": true,
            "ticks": "",
            "zerolinecolor": "white"
           },
           "zaxis": {
            "backgroundcolor": "#E5ECF6",
            "gridcolor": "white",
            "gridwidth": 2,
            "linecolor": "white",
            "showbackground": true,
            "ticks": "",
            "zerolinecolor": "white"
           }
          },
          "shapedefaults": {
           "line": {
            "color": "#2a3f5f"
           }
          },
          "ternary": {
           "aaxis": {
            "gridcolor": "white",
            "linecolor": "white",
            "ticks": ""
           },
           "baxis": {
            "gridcolor": "white",
            "linecolor": "white",
            "ticks": ""
           },
           "bgcolor": "#E5ECF6",
           "caxis": {
            "gridcolor": "white",
            "linecolor": "white",
            "ticks": ""
           }
          },
          "title": {
           "x": 0.05
          },
          "xaxis": {
           "automargin": true,
           "gridcolor": "white",
           "linecolor": "white",
           "ticks": "",
           "title": {
            "standoff": 15
           },
           "zerolinecolor": "white",
           "zerolinewidth": 2
          },
          "yaxis": {
           "automargin": true,
           "gridcolor": "white",
           "linecolor": "white",
           "ticks": "",
           "title": {
            "standoff": 15
           },
           "zerolinecolor": "white",
           "zerolinewidth": 2
          }
         }
        },
        "title": {
         "text": "Hyperparameter Importances"
        },
        "xaxis": {
         "title": {
          "text": "Hyperparameter Importance"
         }
        },
        "yaxis": {
         "title": {
          "text": "Hyperparameter"
         }
        }
       }
      }
     },
     "metadata": {},
     "output_type": "display_data"
    }
   ],
   "source": [
    "# 5. Hyperparameter Importance\n",
    "plot_param_importances(study)"
   ]
  },
  {
   "cell_type": "markdown",
   "id": "f1ed41d2",
   "metadata": {},
   "source": [
    "Optimizing Multiple ML Models"
   ]
  },
  {
   "cell_type": "code",
   "execution_count": 7,
   "id": "8fe19466",
   "metadata": {},
   "outputs": [],
   "source": [
    "# Importing the required libraries\n",
    "from sklearn.ensemble import RandomForestClassifier, GradientBoostingClassifier\n",
    "from sklearn.svm import SVC"
   ]
  },
  {
   "cell_type": "code",
   "execution_count": 8,
   "id": "931345f6",
   "metadata": {},
   "outputs": [],
   "source": [
    "# Define the objective function for Optuna\n",
    "def objective(trial):\n",
    "    # Choose the algorithm to tune\n",
    "    classifier_name = trial.suggest_categorical('classifier', ['SVM', 'RandomForest', 'GradientBoosting'])\n",
    "\n",
    "    if classifier_name == 'SVM':\n",
    "        # SVM hyperparameters\n",
    "        c = trial.suggest_float('C', 0.1, 100, log=True)\n",
    "        kernel = trial.suggest_categorical('kernel', ['linear', 'rbf', 'poly', 'sigmoid'])\n",
    "        gamma = trial.suggest_categorical('gamma', ['scale', 'auto'])\n",
    "\n",
    "        model = SVC(C=c, kernel=kernel, gamma=gamma, random_state=42)\n",
    "\n",
    "    elif classifier_name == 'RandomForest':\n",
    "        # Random Forest hyperparameters\n",
    "        n_estimators = trial.suggest_int('n_estimators', 50, 300)\n",
    "        max_depth = trial.suggest_int('max_depth', 3, 20)\n",
    "        min_samples_split = trial.suggest_int('min_samples_split', 2, 10)\n",
    "        min_samples_leaf = trial.suggest_int('min_samples_leaf', 1, 10)\n",
    "        bootstrap = trial.suggest_categorical('bootstrap', [True, False])\n",
    "\n",
    "        model = RandomForestClassifier(\n",
    "            n_estimators=n_estimators,\n",
    "            max_depth=max_depth,\n",
    "            min_samples_split=min_samples_split,\n",
    "            min_samples_leaf=min_samples_leaf,\n",
    "            bootstrap=bootstrap,\n",
    "            random_state=42\n",
    "        )\n",
    "\n",
    "    elif classifier_name == 'GradientBoosting':\n",
    "        # Gradient Boosting hyperparameters\n",
    "        n_estimators = trial.suggest_int('n_estimators', 50, 300)\n",
    "        learning_rate = trial.suggest_float('learning_rate', 0.01, 0.3, log=True)\n",
    "        max_depth = trial.suggest_int('max_depth', 3, 20)\n",
    "        min_samples_split = trial.suggest_int('min_samples_split', 2, 10)\n",
    "        min_samples_leaf = trial.suggest_int('min_samples_leaf', 1, 10)\n",
    "\n",
    "        model = GradientBoostingClassifier(\n",
    "            n_estimators=n_estimators,\n",
    "            learning_rate=learning_rate,\n",
    "            max_depth=max_depth,\n",
    "            min_samples_split=min_samples_split,\n",
    "            min_samples_leaf=min_samples_leaf,\n",
    "            random_state=42\n",
    "        )\n",
    "\n",
    "    # Perform cross-validation and return the mean accuracy\n",
    "    score = cross_val_score(model, X_train, y_train, cv=3, scoring='accuracy').mean()\n",
    "    return score"
   ]
  },
  {
   "cell_type": "code",
   "execution_count": null,
   "id": "bc795032",
   "metadata": {},
   "outputs": [
    {
     "name": "stderr",
     "output_type": "stream",
     "text": [
      "[I 2025-07-05 11:51:04,041] A new study created in memory with name: no-name-96a6ac05-00c6-43c5-973a-4faa56c84310\n",
      "[I 2025-07-05 11:51:05,437] Trial 0 finished with value: 0.7374301675977654 and parameters: {'classifier': 'GradientBoosting', 'n_estimators': 177, 'learning_rate': 0.27119294875865, 'max_depth': 20, 'min_samples_split': 2, 'min_samples_leaf': 7}. Best is trial 0 with value: 0.7374301675977654.\n",
      "[I 2025-07-05 11:51:07,999] Trial 1 finished with value: 0.7541899441340781 and parameters: {'classifier': 'GradientBoosting', 'n_estimators': 219, 'learning_rate': 0.01312422153231917, 'max_depth': 16, 'min_samples_split': 3, 'min_samples_leaf': 4}. Best is trial 1 with value: 0.7541899441340781.\n",
      "[I 2025-07-05 11:51:08,325] Trial 2 finished with value: 0.7579143389199255 and parameters: {'classifier': 'RandomForest', 'n_estimators': 98, 'max_depth': 10, 'min_samples_split': 8, 'min_samples_leaf': 7, 'bootstrap': True}. Best is trial 2 with value: 0.7579143389199255.\n",
      "[I 2025-07-05 11:51:10,000] Trial 3 finished with value: 0.750465549348231 and parameters: {'classifier': 'GradientBoosting', 'n_estimators': 184, 'learning_rate': 0.060965622215863303, 'max_depth': 9, 'min_samples_split': 8, 'min_samples_leaf': 4}. Best is trial 2 with value: 0.7579143389199255.\n",
      "[I 2025-07-05 11:51:11,905] Trial 4 finished with value: 0.7858472998137801 and parameters: {'classifier': 'SVM', 'C': 1.1425150884963826, 'kernel': 'linear', 'gamma': 'auto'}. Best is trial 4 with value: 0.7858472998137801.\n",
      "[I 2025-07-05 11:51:13,210] Trial 5 finished with value: 0.7467411545623835 and parameters: {'classifier': 'GradientBoosting', 'n_estimators': 125, 'learning_rate': 0.14115091455841958, 'max_depth': 9, 'min_samples_split': 2, 'min_samples_leaf': 3}. Best is trial 4 with value: 0.7858472998137801.\n",
      "[I 2025-07-05 11:51:15,590] Trial 6 finished with value: 0.7355679702048418 and parameters: {'classifier': 'GradientBoosting', 'n_estimators': 149, 'learning_rate': 0.08152726512135232, 'max_depth': 19, 'min_samples_split': 6, 'min_samples_leaf': 3}. Best is trial 4 with value: 0.7858472998137801.\n",
      "[I 2025-07-05 11:51:16,004] Trial 7 finished with value: 0.7783985102420857 and parameters: {'classifier': 'RandomForest', 'n_estimators': 152, 'max_depth': 9, 'min_samples_split': 3, 'min_samples_leaf': 8, 'bootstrap': False}. Best is trial 4 with value: 0.7858472998137801.\n",
      "[I 2025-07-05 11:51:16,894] Trial 8 finished with value: 0.7486033519553073 and parameters: {'classifier': 'GradientBoosting', 'n_estimators': 95, 'learning_rate': 0.11592641767568376, 'max_depth': 13, 'min_samples_split': 2, 'min_samples_leaf': 6}. Best is trial 4 with value: 0.7858472998137801.\n",
      "[I 2025-07-05 11:51:19,184] Trial 9 finished with value: 0.7355679702048418 and parameters: {'classifier': 'GradientBoosting', 'n_estimators': 202, 'learning_rate': 0.0184392676199348, 'max_depth': 13, 'min_samples_split': 9, 'min_samples_leaf': 4}. Best is trial 4 with value: 0.7858472998137801.\n",
      "[I 2025-07-05 11:51:21,314] Trial 10 finished with value: 0.7858472998137801 and parameters: {'classifier': 'SVM', 'C': 0.9455422482525255, 'kernel': 'linear', 'gamma': 'auto'}. Best is trial 4 with value: 0.7858472998137801.\n",
      "[I 2025-07-05 11:51:23,334] Trial 11 finished with value: 0.7858472998137801 and parameters: {'classifier': 'SVM', 'C': 0.9557638202808374, 'kernel': 'linear', 'gamma': 'auto'}. Best is trial 4 with value: 0.7858472998137801.\n",
      "[I 2025-07-05 11:51:25,155] Trial 12 finished with value: 0.7858472998137801 and parameters: {'classifier': 'SVM', 'C': 1.0795112402367633, 'kernel': 'linear', 'gamma': 'auto'}. Best is trial 4 with value: 0.7858472998137801.\n",
      "[I 2025-07-05 11:51:52,949] Trial 13 finished with value: 0.7765363128491621 and parameters: {'classifier': 'SVM', 'C': 20.366574258930868, 'kernel': 'linear', 'gamma': 'auto'}. Best is trial 4 with value: 0.7858472998137801.\n",
      "[I 2025-07-05 11:51:52,992] Trial 14 finished with value: 0.6499068901303539 and parameters: {'classifier': 'SVM', 'C': 0.15312166800797236, 'kernel': 'sigmoid', 'gamma': 'scale'}. Best is trial 4 with value: 0.7858472998137801.\n"
     ]
    }
   ],
   "source": [
    "# Create a study and optimize it \n",
    "study = optuna.create_study(direction='maximize')\n",
    "study.optimize(objective, n_trials=30)"
   ]
  },
  {
   "cell_type": "code",
   "execution_count": null,
   "id": "432aa06d",
   "metadata": {},
   "outputs": [],
   "source": [
    "# Retrieve the best trial\n",
    "best_trial = study.best_trial\n",
    "print(\"Best trial parameters:\", best_trial.params)\n",
    "print(\"Best trial accuracy:\", best_trial.value)"
   ]
  },
  {
   "cell_type": "code",
   "execution_count": null,
   "id": "37a8cf58",
   "metadata": {},
   "outputs": [],
   "source": [
    "study.trials_dataframe()"
   ]
  },
  {
   "cell_type": "code",
   "execution_count": null,
   "id": "961b1f3d",
   "metadata": {},
   "outputs": [],
   "source": [
    "study.trials_dataframe()['params_classifier'].value_counts()"
   ]
  },
  {
   "cell_type": "code",
   "execution_count": null,
   "id": "28b6c102",
   "metadata": {},
   "outputs": [],
   "source": [
    "study.trials_dataframe().groupby('params_classifier')['value'].mean()"
   ]
  }
 ],
 "metadata": {
  "kernelspec": {
   "display_name": "base",
   "language": "python",
   "name": "python3"
  },
  "language_info": {
   "codemirror_mode": {
    "name": "ipython",
    "version": 3
   },
   "file_extension": ".py",
   "mimetype": "text/x-python",
   "name": "python",
   "nbconvert_exporter": "python",
   "pygments_lexer": "ipython3",
   "version": "3.12.4"
  }
 },
 "nbformat": 4,
 "nbformat_minor": 5
}
